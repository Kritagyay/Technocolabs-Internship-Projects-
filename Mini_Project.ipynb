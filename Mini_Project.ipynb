{
 "cells": [
  {
   "cell_type": "markdown",
   "id": "2a17e67a",
   "metadata": {},
   "source": [
    "# BigMart Mini Project\n",
    "\n",
    "### Project Description\n",
    "The data scientists at BigMart have collected 2013 sales data for 1559 products across 10 stores in different cities. Also, certain attributes of each product and store have been defined. The aim of this data science project is to build a predictive model and find out the sales of each product at a particular store.\n",
    "\n",
    "Using this model, BigMart will try to understand the properties of products and stores which play a key role in increasing sales.\n",
    "\n",
    "The data has missing values as some stores do not report all the data due to technical glitches. Hence, it will be required to treat them accordingly.\n",
    "\n",
    "We will handle this problem in a structured way. We will be following the table of content given below.\n",
    "\n",
    "* Table of Content\n",
    "* Problem Statement\n",
    "* Hypothesis Generation\n",
    "* Loading Packages and Data\n",
    "* Data Structure and Content\n",
    "* Exploratory Data Analysis\n",
    "* Univariate Analysis\n",
    "* Bivariate Analysis\n",
    "* Missing Value Treatment\n",
    "* Feature Engineering\n",
    "* Encoding Categorical Variables\n",
    "* Label Encoding\n",
    "* One Hot Encoding\n",
    "* PreProcessing Data\n",
    "* Modeling\n",
    "* Linear Regression\n",
    "* Regularized Linear Regression\n",
    "* RandomForest\n",
    "* XGBoost\n",
    "* Summary\n",
    "\n",
    "Following is the link to explore the information related to each topic specifically.\n",
    "\n",
    "https://shahyaseen71.gitbook.io/technocolabs-mini-project/your-task\n",
    "\n",
    "### The Business Problem Exploring\n",
    "The aim of this data science project is to build a predictive model and find out the sales of each product at a particular store."
   ]
  },
  {
   "cell_type": "markdown",
   "id": "dac2848a",
   "metadata": {},
   "source": [
    "#### IMPORTING DIFFERENT LIBRARIES AS REQUIRED\n"
   ]
  },
  {
   "cell_type": "code",
   "execution_count": 37,
   "id": "e0d96bd3",
   "metadata": {},
   "outputs": [],
   "source": [
    "import pandas as pd\n",
    "import numpy as np\n",
    "import matplotlib.pyplot as plt\n",
    "import sklearn\n",
    "import seaborn as sns \n",
    "from sklearn.metrics import r2_score"
   ]
  },
  {
   "cell_type": "markdown",
   "id": "c2cc0743",
   "metadata": {},
   "source": [
    "### Importing Dataset\n"
   ]
  },
  {
   "cell_type": "code",
   "execution_count": 38,
   "id": "c302070f",
   "metadata": {},
   "outputs": [
    {
     "data": {
      "text/html": [
       "<div>\n",
       "<style scoped>\n",
       "    .dataframe tbody tr th:only-of-type {\n",
       "        vertical-align: middle;\n",
       "    }\n",
       "\n",
       "    .dataframe tbody tr th {\n",
       "        vertical-align: top;\n",
       "    }\n",
       "\n",
       "    .dataframe thead th {\n",
       "        text-align: right;\n",
       "    }\n",
       "</style>\n",
       "<table border=\"1\" class=\"dataframe\">\n",
       "  <thead>\n",
       "    <tr style=\"text-align: right;\">\n",
       "      <th></th>\n",
       "      <th>Item_Identifier</th>\n",
       "      <th>Item_Weight</th>\n",
       "      <th>Item_Fat_Content</th>\n",
       "      <th>Item_Visibility</th>\n",
       "      <th>Item_Type</th>\n",
       "      <th>Item_MRP</th>\n",
       "      <th>Outlet_Identifier</th>\n",
       "      <th>Outlet_Establishment_Year</th>\n",
       "      <th>Outlet_Size</th>\n",
       "      <th>Outlet_Location_Type</th>\n",
       "      <th>Outlet_Type</th>\n",
       "      <th>Item_Outlet_Sales</th>\n",
       "    </tr>\n",
       "  </thead>\n",
       "  <tbody>\n",
       "    <tr>\n",
       "      <th>0</th>\n",
       "      <td>FDA15</td>\n",
       "      <td>9.30</td>\n",
       "      <td>Low Fat</td>\n",
       "      <td>0.016047</td>\n",
       "      <td>Dairy</td>\n",
       "      <td>249.8092</td>\n",
       "      <td>OUT049</td>\n",
       "      <td>1999</td>\n",
       "      <td>Medium</td>\n",
       "      <td>Tier 1</td>\n",
       "      <td>Supermarket Type1</td>\n",
       "      <td>3735.1380</td>\n",
       "    </tr>\n",
       "    <tr>\n",
       "      <th>1</th>\n",
       "      <td>DRC01</td>\n",
       "      <td>5.92</td>\n",
       "      <td>Regular</td>\n",
       "      <td>0.019278</td>\n",
       "      <td>Soft Drinks</td>\n",
       "      <td>48.2692</td>\n",
       "      <td>OUT018</td>\n",
       "      <td>2009</td>\n",
       "      <td>Medium</td>\n",
       "      <td>Tier 3</td>\n",
       "      <td>Supermarket Type2</td>\n",
       "      <td>443.4228</td>\n",
       "    </tr>\n",
       "    <tr>\n",
       "      <th>2</th>\n",
       "      <td>FDN15</td>\n",
       "      <td>17.50</td>\n",
       "      <td>Low Fat</td>\n",
       "      <td>0.016760</td>\n",
       "      <td>Meat</td>\n",
       "      <td>141.6180</td>\n",
       "      <td>OUT049</td>\n",
       "      <td>1999</td>\n",
       "      <td>Medium</td>\n",
       "      <td>Tier 1</td>\n",
       "      <td>Supermarket Type1</td>\n",
       "      <td>2097.2700</td>\n",
       "    </tr>\n",
       "    <tr>\n",
       "      <th>3</th>\n",
       "      <td>FDX07</td>\n",
       "      <td>19.20</td>\n",
       "      <td>Regular</td>\n",
       "      <td>0.000000</td>\n",
       "      <td>Fruits and Vegetables</td>\n",
       "      <td>182.0950</td>\n",
       "      <td>OUT010</td>\n",
       "      <td>1998</td>\n",
       "      <td>NaN</td>\n",
       "      <td>Tier 3</td>\n",
       "      <td>Grocery Store</td>\n",
       "      <td>732.3800</td>\n",
       "    </tr>\n",
       "    <tr>\n",
       "      <th>4</th>\n",
       "      <td>NCD19</td>\n",
       "      <td>8.93</td>\n",
       "      <td>Low Fat</td>\n",
       "      <td>0.000000</td>\n",
       "      <td>Household</td>\n",
       "      <td>53.8614</td>\n",
       "      <td>OUT013</td>\n",
       "      <td>1987</td>\n",
       "      <td>High</td>\n",
       "      <td>Tier 3</td>\n",
       "      <td>Supermarket Type1</td>\n",
       "      <td>994.7052</td>\n",
       "    </tr>\n",
       "  </tbody>\n",
       "</table>\n",
       "</div>"
      ],
      "text/plain": [
       "  Item_Identifier  Item_Weight Item_Fat_Content  Item_Visibility  \\\n",
       "0           FDA15         9.30          Low Fat         0.016047   \n",
       "1           DRC01         5.92          Regular         0.019278   \n",
       "2           FDN15        17.50          Low Fat         0.016760   \n",
       "3           FDX07        19.20          Regular         0.000000   \n",
       "4           NCD19         8.93          Low Fat         0.000000   \n",
       "\n",
       "               Item_Type  Item_MRP Outlet_Identifier  \\\n",
       "0                  Dairy  249.8092            OUT049   \n",
       "1            Soft Drinks   48.2692            OUT018   \n",
       "2                   Meat  141.6180            OUT049   \n",
       "3  Fruits and Vegetables  182.0950            OUT010   \n",
       "4              Household   53.8614            OUT013   \n",
       "\n",
       "   Outlet_Establishment_Year Outlet_Size Outlet_Location_Type  \\\n",
       "0                       1999      Medium               Tier 1   \n",
       "1                       2009      Medium               Tier 3   \n",
       "2                       1999      Medium               Tier 1   \n",
       "3                       1998         NaN               Tier 3   \n",
       "4                       1987        High               Tier 3   \n",
       "\n",
       "         Outlet_Type  Item_Outlet_Sales  \n",
       "0  Supermarket Type1          3735.1380  \n",
       "1  Supermarket Type2           443.4228  \n",
       "2  Supermarket Type1          2097.2700  \n",
       "3      Grocery Store           732.3800  \n",
       "4  Supermarket Type1           994.7052  "
      ]
     },
     "execution_count": 38,
     "metadata": {},
     "output_type": "execute_result"
    }
   ],
   "source": [
    "df=pd.read_csv(\"Train.csv\")\n",
    "df.head()\n"
   ]
  },
  {
   "cell_type": "code",
   "execution_count": 151,
   "id": "12432126",
   "metadata": {},
   "outputs": [
    {
     "data": {
      "text/plain": [
       "(8523, 10)"
      ]
     },
     "execution_count": 151,
     "metadata": {},
     "output_type": "execute_result"
    }
   ],
   "source": [
    "df.shape"
   ]
  },
  {
   "cell_type": "markdown",
   "id": "9b4fe4b1",
   "metadata": {},
   "source": [
    "### Filling Null Values \n"
   ]
  },
  {
   "cell_type": "code",
   "execution_count": 39,
   "id": "e1e39a1e",
   "metadata": {},
   "outputs": [
    {
     "data": {
      "text/plain": [
       "Item_Identifier                 0\n",
       "Item_Weight                  1463\n",
       "Item_Fat_Content                0\n",
       "Item_Visibility                 0\n",
       "Item_Type                       0\n",
       "Item_MRP                        0\n",
       "Outlet_Identifier               0\n",
       "Outlet_Establishment_Year       0\n",
       "Outlet_Size                  2410\n",
       "Outlet_Location_Type            0\n",
       "Outlet_Type                     0\n",
       "Item_Outlet_Sales               0\n",
       "dtype: int64"
      ]
     },
     "execution_count": 39,
     "metadata": {},
     "output_type": "execute_result"
    }
   ],
   "source": [
    "df.isna().sum()"
   ]
  },
  {
   "cell_type": "code",
   "execution_count": 40,
   "id": "c6ac06bb",
   "metadata": {},
   "outputs": [
    {
     "data": {
      "text/plain": [
       "0     9.300\n",
       "1     5.920\n",
       "2    17.500\n",
       "3    19.200\n",
       "4     8.930\n",
       "5    10.395\n",
       "6    13.650\n",
       "7       NaN\n",
       "8    16.200\n",
       "9    19.200\n",
       "Name: Item_Weight, dtype: float64"
      ]
     },
     "execution_count": 40,
     "metadata": {},
     "output_type": "execute_result"
    }
   ],
   "source": [
    "df[\"Item_Weight\"][:10]"
   ]
  },
  {
   "cell_type": "code",
   "execution_count": 41,
   "id": "5906f1f3",
   "metadata": {},
   "outputs": [
    {
     "data": {
      "text/plain": [
       "2410"
      ]
     },
     "execution_count": 41,
     "metadata": {},
     "output_type": "execute_result"
    }
   ],
   "source": [
    "df[\"Outlet_Size\"].isna().sum()"
   ]
  },
  {
   "cell_type": "code",
   "execution_count": 42,
   "id": "3a7ae2ce",
   "metadata": {},
   "outputs": [
    {
     "data": {
      "text/plain": [
       "0    Medium\n",
       "1    Medium\n",
       "2    Medium\n",
       "3       NaN\n",
       "4      High\n",
       "5    Medium\n",
       "6      High\n",
       "7    Medium\n",
       "8       NaN\n",
       "9       NaN\n",
       "Name: Outlet_Size, dtype: object"
      ]
     },
     "execution_count": 42,
     "metadata": {},
     "output_type": "execute_result"
    }
   ],
   "source": [
    "df[\"Outlet_Size\"][:10]"
   ]
  },
  {
   "cell_type": "code",
   "execution_count": 43,
   "id": "0ddb486e",
   "metadata": {},
   "outputs": [],
   "source": [
    "df.Item_Weight=df.Item_Weight.fillna(df[\"Item_Weight\"].mean())"
   ]
  },
  {
   "cell_type": "code",
   "execution_count": 44,
   "id": "136ccfa1",
   "metadata": {},
   "outputs": [
    {
     "data": {
      "text/plain": [
       "0"
      ]
     },
     "execution_count": 44,
     "metadata": {},
     "output_type": "execute_result"
    }
   ],
   "source": [
    "df[\"Item_Weight\"].isna().sum()"
   ]
  },
  {
   "cell_type": "code",
   "execution_count": 45,
   "id": "63c2141f",
   "metadata": {},
   "outputs": [
    {
     "data": {
      "text/plain": [
       "0     9.300000\n",
       "1     5.920000\n",
       "2    17.500000\n",
       "3    19.200000\n",
       "4     8.930000\n",
       "5    10.395000\n",
       "6    13.650000\n",
       "7    12.857645\n",
       "8    16.200000\n",
       "9    19.200000\n",
       "Name: Item_Weight, dtype: float64"
      ]
     },
     "execution_count": 45,
     "metadata": {},
     "output_type": "execute_result"
    }
   ],
   "source": [
    "df[\"Item_Weight\"][:10]"
   ]
  },
  {
   "cell_type": "code",
   "execution_count": 46,
   "id": "103b745d",
   "metadata": {},
   "outputs": [
    {
     "data": {
      "text/plain": [
       "'Medium'"
      ]
     },
     "execution_count": 46,
     "metadata": {},
     "output_type": "execute_result"
    }
   ],
   "source": [
    "df[\"Outlet_Size\"].mode()[0]"
   ]
  },
  {
   "cell_type": "code",
   "execution_count": 47,
   "id": "2a0f49cf",
   "metadata": {},
   "outputs": [],
   "source": [
    "df.Outlet_Size=df.Outlet_Size.fillna(\"Medium\")"
   ]
  },
  {
   "cell_type": "code",
   "execution_count": 48,
   "id": "9251b2f4",
   "metadata": {},
   "outputs": [
    {
     "data": {
      "text/plain": [
       "Item_Identifier              0\n",
       "Item_Weight                  0\n",
       "Item_Fat_Content             0\n",
       "Item_Visibility              0\n",
       "Item_Type                    0\n",
       "Item_MRP                     0\n",
       "Outlet_Identifier            0\n",
       "Outlet_Establishment_Year    0\n",
       "Outlet_Size                  0\n",
       "Outlet_Location_Type         0\n",
       "Outlet_Type                  0\n",
       "Item_Outlet_Sales            0\n",
       "dtype: int64"
      ]
     },
     "execution_count": 48,
     "metadata": {},
     "output_type": "execute_result"
    }
   ],
   "source": [
    "df.isna().sum()"
   ]
  },
  {
   "cell_type": "code",
   "execution_count": 49,
   "id": "ae4b7763",
   "metadata": {
    "scrolled": true
   },
   "outputs": [
    {
     "data": {
      "text/html": [
       "<div>\n",
       "<style scoped>\n",
       "    .dataframe tbody tr th:only-of-type {\n",
       "        vertical-align: middle;\n",
       "    }\n",
       "\n",
       "    .dataframe tbody tr th {\n",
       "        vertical-align: top;\n",
       "    }\n",
       "\n",
       "    .dataframe thead th {\n",
       "        text-align: right;\n",
       "    }\n",
       "</style>\n",
       "<table border=\"1\" class=\"dataframe\">\n",
       "  <thead>\n",
       "    <tr style=\"text-align: right;\">\n",
       "      <th></th>\n",
       "      <th>Item_Identifier</th>\n",
       "      <th>Item_Weight</th>\n",
       "      <th>Item_Fat_Content</th>\n",
       "      <th>Item_Visibility</th>\n",
       "      <th>Item_Type</th>\n",
       "      <th>Item_MRP</th>\n",
       "      <th>Outlet_Identifier</th>\n",
       "      <th>Outlet_Establishment_Year</th>\n",
       "      <th>Outlet_Size</th>\n",
       "      <th>Outlet_Location_Type</th>\n",
       "      <th>Outlet_Type</th>\n",
       "      <th>Item_Outlet_Sales</th>\n",
       "    </tr>\n",
       "  </thead>\n",
       "  <tbody>\n",
       "    <tr>\n",
       "      <th>0</th>\n",
       "      <td>FDA15</td>\n",
       "      <td>9.30</td>\n",
       "      <td>Low Fat</td>\n",
       "      <td>0.016047</td>\n",
       "      <td>Dairy</td>\n",
       "      <td>249.8092</td>\n",
       "      <td>OUT049</td>\n",
       "      <td>1999</td>\n",
       "      <td>Medium</td>\n",
       "      <td>Tier 1</td>\n",
       "      <td>Supermarket Type1</td>\n",
       "      <td>3735.1380</td>\n",
       "    </tr>\n",
       "    <tr>\n",
       "      <th>1</th>\n",
       "      <td>DRC01</td>\n",
       "      <td>5.92</td>\n",
       "      <td>Regular</td>\n",
       "      <td>0.019278</td>\n",
       "      <td>Soft Drinks</td>\n",
       "      <td>48.2692</td>\n",
       "      <td>OUT018</td>\n",
       "      <td>2009</td>\n",
       "      <td>Medium</td>\n",
       "      <td>Tier 3</td>\n",
       "      <td>Supermarket Type2</td>\n",
       "      <td>443.4228</td>\n",
       "    </tr>\n",
       "    <tr>\n",
       "      <th>2</th>\n",
       "      <td>FDN15</td>\n",
       "      <td>17.50</td>\n",
       "      <td>Low Fat</td>\n",
       "      <td>0.016760</td>\n",
       "      <td>Meat</td>\n",
       "      <td>141.6180</td>\n",
       "      <td>OUT049</td>\n",
       "      <td>1999</td>\n",
       "      <td>Medium</td>\n",
       "      <td>Tier 1</td>\n",
       "      <td>Supermarket Type1</td>\n",
       "      <td>2097.2700</td>\n",
       "    </tr>\n",
       "    <tr>\n",
       "      <th>3</th>\n",
       "      <td>FDX07</td>\n",
       "      <td>19.20</td>\n",
       "      <td>Regular</td>\n",
       "      <td>0.000000</td>\n",
       "      <td>Fruits and Vegetables</td>\n",
       "      <td>182.0950</td>\n",
       "      <td>OUT010</td>\n",
       "      <td>1998</td>\n",
       "      <td>Medium</td>\n",
       "      <td>Tier 3</td>\n",
       "      <td>Grocery Store</td>\n",
       "      <td>732.3800</td>\n",
       "    </tr>\n",
       "    <tr>\n",
       "      <th>4</th>\n",
       "      <td>NCD19</td>\n",
       "      <td>8.93</td>\n",
       "      <td>Low Fat</td>\n",
       "      <td>0.000000</td>\n",
       "      <td>Household</td>\n",
       "      <td>53.8614</td>\n",
       "      <td>OUT013</td>\n",
       "      <td>1987</td>\n",
       "      <td>High</td>\n",
       "      <td>Tier 3</td>\n",
       "      <td>Supermarket Type1</td>\n",
       "      <td>994.7052</td>\n",
       "    </tr>\n",
       "  </tbody>\n",
       "</table>\n",
       "</div>"
      ],
      "text/plain": [
       "  Item_Identifier  Item_Weight Item_Fat_Content  Item_Visibility  \\\n",
       "0           FDA15         9.30          Low Fat         0.016047   \n",
       "1           DRC01         5.92          Regular         0.019278   \n",
       "2           FDN15        17.50          Low Fat         0.016760   \n",
       "3           FDX07        19.20          Regular         0.000000   \n",
       "4           NCD19         8.93          Low Fat         0.000000   \n",
       "\n",
       "               Item_Type  Item_MRP Outlet_Identifier  \\\n",
       "0                  Dairy  249.8092            OUT049   \n",
       "1            Soft Drinks   48.2692            OUT018   \n",
       "2                   Meat  141.6180            OUT049   \n",
       "3  Fruits and Vegetables  182.0950            OUT010   \n",
       "4              Household   53.8614            OUT013   \n",
       "\n",
       "   Outlet_Establishment_Year Outlet_Size Outlet_Location_Type  \\\n",
       "0                       1999      Medium               Tier 1   \n",
       "1                       2009      Medium               Tier 3   \n",
       "2                       1999      Medium               Tier 1   \n",
       "3                       1998      Medium               Tier 3   \n",
       "4                       1987        High               Tier 3   \n",
       "\n",
       "         Outlet_Type  Item_Outlet_Sales  \n",
       "0  Supermarket Type1          3735.1380  \n",
       "1  Supermarket Type2           443.4228  \n",
       "2  Supermarket Type1          2097.2700  \n",
       "3      Grocery Store           732.3800  \n",
       "4  Supermarket Type1           994.7052  "
      ]
     },
     "execution_count": 49,
     "metadata": {},
     "output_type": "execute_result"
    }
   ],
   "source": [
    "df.head()"
   ]
  },
  {
   "cell_type": "markdown",
   "id": "4e4424e8",
   "metadata": {},
   "source": [
    "### Dataset Description"
   ]
  },
  {
   "cell_type": "code",
   "execution_count": 50,
   "id": "43b80431",
   "metadata": {},
   "outputs": [
    {
     "data": {
      "text/html": [
       "<div>\n",
       "<style scoped>\n",
       "    .dataframe tbody tr th:only-of-type {\n",
       "        vertical-align: middle;\n",
       "    }\n",
       "\n",
       "    .dataframe tbody tr th {\n",
       "        vertical-align: top;\n",
       "    }\n",
       "\n",
       "    .dataframe thead th {\n",
       "        text-align: right;\n",
       "    }\n",
       "</style>\n",
       "<table border=\"1\" class=\"dataframe\">\n",
       "  <thead>\n",
       "    <tr style=\"text-align: right;\">\n",
       "      <th></th>\n",
       "      <th>Item_Weight</th>\n",
       "      <th>Item_Visibility</th>\n",
       "      <th>Item_MRP</th>\n",
       "      <th>Outlet_Establishment_Year</th>\n",
       "      <th>Item_Outlet_Sales</th>\n",
       "    </tr>\n",
       "  </thead>\n",
       "  <tbody>\n",
       "    <tr>\n",
       "      <th>count</th>\n",
       "      <td>8523.000000</td>\n",
       "      <td>8523.000000</td>\n",
       "      <td>8523.000000</td>\n",
       "      <td>8523.000000</td>\n",
       "      <td>8523.000000</td>\n",
       "    </tr>\n",
       "    <tr>\n",
       "      <th>mean</th>\n",
       "      <td>12.857645</td>\n",
       "      <td>0.066132</td>\n",
       "      <td>140.992782</td>\n",
       "      <td>1997.831867</td>\n",
       "      <td>2181.288914</td>\n",
       "    </tr>\n",
       "    <tr>\n",
       "      <th>std</th>\n",
       "      <td>4.226124</td>\n",
       "      <td>0.051598</td>\n",
       "      <td>62.275067</td>\n",
       "      <td>8.371760</td>\n",
       "      <td>1706.499616</td>\n",
       "    </tr>\n",
       "    <tr>\n",
       "      <th>min</th>\n",
       "      <td>4.555000</td>\n",
       "      <td>0.000000</td>\n",
       "      <td>31.290000</td>\n",
       "      <td>1985.000000</td>\n",
       "      <td>33.290000</td>\n",
       "    </tr>\n",
       "    <tr>\n",
       "      <th>25%</th>\n",
       "      <td>9.310000</td>\n",
       "      <td>0.026989</td>\n",
       "      <td>93.826500</td>\n",
       "      <td>1987.000000</td>\n",
       "      <td>834.247400</td>\n",
       "    </tr>\n",
       "    <tr>\n",
       "      <th>50%</th>\n",
       "      <td>12.857645</td>\n",
       "      <td>0.053931</td>\n",
       "      <td>143.012800</td>\n",
       "      <td>1999.000000</td>\n",
       "      <td>1794.331000</td>\n",
       "    </tr>\n",
       "    <tr>\n",
       "      <th>75%</th>\n",
       "      <td>16.000000</td>\n",
       "      <td>0.094585</td>\n",
       "      <td>185.643700</td>\n",
       "      <td>2004.000000</td>\n",
       "      <td>3101.296400</td>\n",
       "    </tr>\n",
       "    <tr>\n",
       "      <th>max</th>\n",
       "      <td>21.350000</td>\n",
       "      <td>0.328391</td>\n",
       "      <td>266.888400</td>\n",
       "      <td>2009.000000</td>\n",
       "      <td>13086.964800</td>\n",
       "    </tr>\n",
       "  </tbody>\n",
       "</table>\n",
       "</div>"
      ],
      "text/plain": [
       "       Item_Weight  Item_Visibility     Item_MRP  Outlet_Establishment_Year  \\\n",
       "count  8523.000000      8523.000000  8523.000000                8523.000000   \n",
       "mean     12.857645         0.066132   140.992782                1997.831867   \n",
       "std       4.226124         0.051598    62.275067                   8.371760   \n",
       "min       4.555000         0.000000    31.290000                1985.000000   \n",
       "25%       9.310000         0.026989    93.826500                1987.000000   \n",
       "50%      12.857645         0.053931   143.012800                1999.000000   \n",
       "75%      16.000000         0.094585   185.643700                2004.000000   \n",
       "max      21.350000         0.328391   266.888400                2009.000000   \n",
       "\n",
       "       Item_Outlet_Sales  \n",
       "count        8523.000000  \n",
       "mean         2181.288914  \n",
       "std          1706.499616  \n",
       "min            33.290000  \n",
       "25%           834.247400  \n",
       "50%          1794.331000  \n",
       "75%          3101.296400  \n",
       "max         13086.964800  "
      ]
     },
     "execution_count": 50,
     "metadata": {},
     "output_type": "execute_result"
    }
   ],
   "source": [
    "df.describe()"
   ]
  },
  {
   "cell_type": "code",
   "execution_count": 51,
   "id": "70b4c809",
   "metadata": {},
   "outputs": [
    {
     "name": "stdout",
     "output_type": "stream",
     "text": [
      "<class 'pandas.core.frame.DataFrame'>\n",
      "RangeIndex: 8523 entries, 0 to 8522\n",
      "Data columns (total 12 columns):\n",
      " #   Column                     Non-Null Count  Dtype  \n",
      "---  ------                     --------------  -----  \n",
      " 0   Item_Identifier            8523 non-null   object \n",
      " 1   Item_Weight                8523 non-null   float64\n",
      " 2   Item_Fat_Content           8523 non-null   object \n",
      " 3   Item_Visibility            8523 non-null   float64\n",
      " 4   Item_Type                  8523 non-null   object \n",
      " 5   Item_MRP                   8523 non-null   float64\n",
      " 6   Outlet_Identifier          8523 non-null   object \n",
      " 7   Outlet_Establishment_Year  8523 non-null   int64  \n",
      " 8   Outlet_Size                8523 non-null   object \n",
      " 9   Outlet_Location_Type       8523 non-null   object \n",
      " 10  Outlet_Type                8523 non-null   object \n",
      " 11  Item_Outlet_Sales          8523 non-null   float64\n",
      "dtypes: float64(4), int64(1), object(7)\n",
      "memory usage: 799.2+ KB\n"
     ]
    }
   ],
   "source": [
    "df.info()"
   ]
  },
  {
   "cell_type": "markdown",
   "id": "2f516d19",
   "metadata": {},
   "source": [
    "### Plotting of Numeric Features \n",
    "\n",
    "#### UNIVARIATE ANALYSIS"
   ]
  },
  {
   "cell_type": "code",
   "execution_count": 52,
   "id": "2ce3721d",
   "metadata": {},
   "outputs": [
    {
     "data": {
      "text/plain": [
       "<Figure size 500x500 with 0 Axes>"
      ]
     },
     "metadata": {},
     "output_type": "display_data"
    },
    {
     "data": {
      "image/png": "[encoded data removed]",
      "text/plain": [
       "<Figure size 500x500 with 1 Axes>"
      ]
     },
     "metadata": {},
     "output_type": "display_data"
    }
   ],
   "source": [
    "#PLOTTING GRAPHS FOR ITEM_WEIGHT\n",
    "\n",
    "plt.figure(figsize=(5,5))\n",
    "sns.displot(df[\"Item_Weight\"])\n",
    "plt.show()"
   ]
  },
  {
   "cell_type": "code",
   "execution_count": 53,
   "id": "4a744f5f",
   "metadata": {},
   "outputs": [
    {
     "data": {
      "image/png": "[encoded data removed]",
      "text/plain": [
       "<Figure size 500x500 with 1 Axes>"
      ]
     },
     "metadata": {},
     "output_type": "display_data"
    }
   ],
   "source": [
    "plt.figure(figsize=(5,5))\n",
    "sns.boxplot(df[\"Item_Weight\"])\n",
    "plt.show()  #plotting boxplot to check the case of outliers"
   ]
  },
  {
   "cell_type": "code",
   "execution_count": 54,
   "id": "cd799a95",
   "metadata": {},
   "outputs": [
    {
     "data": {
      "image/png": "[encoded data removed]",
      "text/plain": [
       "<Figure size 500x500 with 1 Axes>"
      ]
     },
     "metadata": {},
     "output_type": "display_data"
    }
   ],
   "source": [
    "#PLOTTING GRAPHS FOR ITEM_VISIBILITY\n",
    "\n",
    "plt.figure(figsize=(5,5))\n",
    "sns.boxplot(df[\"Item_Visibility\"])\n",
    "plt.show()"
   ]
  },
  {
   "cell_type": "code",
   "execution_count": 55,
   "id": "75ffec00",
   "metadata": {},
   "outputs": [
    {
     "data": {
      "text/plain": [
       "(array([  49,   83,  108,  174,  334,  434,  502,  521,  532,  680,  847,\n",
       "         854,  966, 1159, 1225, 1272, 1291, 1311, 1324, 1434, 1496, 1501,\n",
       "        1560, 1575, 1644, 1651, 1754, 1805, 1827, 1841, 1941, 2088, 2122,\n",
       "        2251, 2324, 2336, 2403, 2439, 2445, 2586, 2613, 2728, 2855, 2895,\n",
       "        3001, 3017, 3171, 3206, 3336, 3341, 3399, 3458, 3474, 3488, 3497,\n",
       "        3540, 3750, 3767, 3811, 3884, 3993, 4006, 4175, 4192, 4219, 4350,\n",
       "        4382, 4408, 4530, 4538, 4567, 4656, 4674, 4789, 4941, 4987, 5031,\n",
       "        5050, 5083, 5150, 5154, 5287, 5366, 5374, 5445, 5634, 5732, 5734,\n",
       "        5795, 5837, 5880, 5891, 5946, 6008, 6012, 6102, 6179, 6536, 6547,\n",
       "        6576, 6622, 6670, 6674, 6786, 6833, 6903, 6926, 6953, 6966, 7005,\n",
       "        7072, 7081, 7088, 7107, 7121, 7215, 7250, 7278, 7388, 7499, 7558,\n",
       "        7603, 7639, 7744, 7866, 7949, 8194, 8215, 8273, 8292, 8345, 8371,\n",
       "        8432, 8509], dtype=int64),)"
      ]
     },
     "execution_count": 55,
     "metadata": {},
     "output_type": "execute_result"
    }
   ],
   "source": [
    "np.where(df[\"Item_Visibility\"]>0.20)"
   ]
  },
  {
   "cell_type": "markdown",
   "id": "9eecdd56",
   "metadata": {},
   "source": [
    "#### Looking at the box plot, it seems that the variables \"Item_Visibility\", have outlier present in the variables. These outliers value needs to be teated and there are several ways of treating them:\n",
    "\n",
    "* Drop the outlier value\n",
    "* Replace the outlier value using the IQR"
   ]
  },
  {
   "cell_type": "code",
   "execution_count": 56,
   "id": "dd467070",
   "metadata": {},
   "outputs": [],
   "source": [
    "# Instead of dropping out values we will replace the outlier \n",
    "\n",
    "def outlier(col):\n",
    "    sorted(col)\n",
    "    Q1,Q3=col.quantile([0.25,0.75])\n",
    "    IQR=Q3-Q1\n",
    "    lower_range = Q1-(1.5 * IQR)\n",
    "    upper_range = Q3+(1.5 * IQR)\n",
    "    \n",
    "    return lower_range, upper_range"
   ]
  },
  {
   "cell_type": "code",
   "execution_count": 57,
   "id": "d97f9508",
   "metadata": {},
   "outputs": [],
   "source": [
    "lower_range, upper_range = outlier(df['Item_Visibility'])\n",
    "df['Item_Visibility']=np.where(df['Item_Visibility']>upper_range,upper_range,df['Item_Visibility'])\n",
    "df['Item_Visibility']=np.where(df['Item_Visibility']<lower_range,lower_range,df['Item_Visibility'])\n"
   ]
  },
  {
   "cell_type": "markdown",
   "id": "c44ded9a",
   "metadata": {},
   "source": [
    "* Boxplot After removing outlier"
   ]
  },
  {
   "cell_type": "code",
   "execution_count": 58,
   "id": "d369f313",
   "metadata": {},
   "outputs": [
    {
     "data": {
      "image/png": "[encoded data removed]",
      "text/plain": [
       "<Figure size 500x500 with 1 Axes>"
      ]
     },
     "metadata": {},
     "output_type": "display_data"
    }
   ],
   "source": [
    "plt.figure(figsize=(5,5))\n",
    "sns.boxplot(df[\"Item_Visibility\"])\n",
    "plt.show()"
   ]
  },
  {
   "cell_type": "code",
   "execution_count": 59,
   "id": "f7e791a9",
   "metadata": {},
   "outputs": [
    {
     "data": {
      "image/png": "[encoded data removed]",
      "text/plain": [
       "<Figure size 500x500 with 1 Axes>"
      ]
     },
     "metadata": {},
     "output_type": "display_data"
    }
   ],
   "source": [
    "#PLOTTING GRAPHS FOR Item_MRP\n",
    "\n",
    "plt.figure(figsize=(5,5))\n",
    "sns.boxplot(df[\"Item_MRP\"])\n",
    "plt.show()"
   ]
  },
  {
   "cell_type": "code",
   "execution_count": 60,
   "id": "e0a018ae",
   "metadata": {},
   "outputs": [
    {
     "data": {
      "text/plain": [
       "<Figure size 500x500 with 0 Axes>"
      ]
     },
     "metadata": {},
     "output_type": "display_data"
    },
    {
     "data": {
      "image/png": "[encoded data removed]",
      "text/plain": [
       "<Figure size 500x500 with 1 Axes>"
      ]
     },
     "metadata": {},
     "output_type": "display_data"
    }
   ],
   "source": [
    "plt.figure(figsize=(5,5))\n",
    "sns.displot(df[\"Item_MRP\"])\n",
    "plt.show()"
   ]
  },
  {
   "cell_type": "code",
   "execution_count": 61,
   "id": "5e68750c",
   "metadata": {},
   "outputs": [
    {
     "data": {
      "image/png": "[encoded data removed]",
      "text/plain": [
       "<Figure size 640x480 with 1 Axes>"
      ]
     },
     "metadata": {},
     "output_type": "display_data"
    }
   ],
   "source": [
    "#PLOTTING GRAPHS FOR Outlet_Establishment_Year\n",
    "sns.boxplot(df[\"Outlet_Establishment_Year\"])\n",
    "plt.show()"
   ]
  },
  {
   "cell_type": "markdown",
   "id": "3ecf0c30",
   "metadata": {},
   "source": [
    "### Plot the Data"
   ]
  },
  {
   "cell_type": "code",
   "execution_count": 62,
   "id": "61727971",
   "metadata": {},
   "outputs": [
    {
     "name": "stderr",
     "output_type": "stream",
     "text": [
      "C:\\Users\\hp\\AppData\\Local\\Temp\\ipykernel_10428\\985763681.py:2: FutureWarning: The default value of numeric_only in DataFrame.corr is deprecated. In a future version, it will default to False. Select only valid columns or specify the value of numeric_only to silence this warning.\n",
      "  sns.heatmap(df.corr(),cmap=\"YlGnBu\",annot=True)\n"
     ]
    },
    {
     "data": {
      "image/png": "[encoded data removed]",
      "text/plain": [
       "<Figure size 700x700 with 2 Axes>"
      ]
     },
     "metadata": {},
     "output_type": "display_data"
    }
   ],
   "source": [
    "plt.figure(figsize=(7,7))\n",
    "sns.heatmap(df.corr(),cmap=\"YlGnBu\",annot=True)\n",
    "plt.show()"
   ]
  },
  {
   "cell_type": "markdown",
   "id": "4baf8807",
   "metadata": {},
   "source": [
    "### Analysis using Countplot"
   ]
  },
  {
   "cell_type": "code",
   "execution_count": 63,
   "id": "e124c431",
   "metadata": {},
   "outputs": [
    {
     "data": {
      "image/png": "[encoded data removed]",
      "text/plain": [
       "<Figure size 500x500 with 1 Axes>"
      ]
     },
     "metadata": {},
     "output_type": "display_data"
    }
   ],
   "source": [
    "plt.figure(figsize=(5,5))\n",
    "sns.countplot(df[\"Item_Type\"])\n",
    "plt.show()"
   ]
  },
  {
   "cell_type": "code",
   "execution_count": 64,
   "id": "8298df8f",
   "metadata": {},
   "outputs": [
    {
     "name": "stdout",
     "output_type": "stream",
     "text": [
      "<class 'pandas.core.frame.DataFrame'>\n",
      "RangeIndex: 8523 entries, 0 to 8522\n",
      "Data columns (total 12 columns):\n",
      " #   Column                     Non-Null Count  Dtype  \n",
      "---  ------                     --------------  -----  \n",
      " 0   Item_Identifier            8523 non-null   object \n",
      " 1   Item_Weight                8523 non-null   float64\n",
      " 2   Item_Fat_Content           8523 non-null   object \n",
      " 3   Item_Visibility            8523 non-null   float64\n",
      " 4   Item_Type                  8523 non-null   object \n",
      " 5   Item_MRP                   8523 non-null   float64\n",
      " 6   Outlet_Identifier          8523 non-null   object \n",
      " 7   Outlet_Establishment_Year  8523 non-null   int64  \n",
      " 8   Outlet_Size                8523 non-null   object \n",
      " 9   Outlet_Location_Type       8523 non-null   object \n",
      " 10  Outlet_Type                8523 non-null   object \n",
      " 11  Item_Outlet_Sales          8523 non-null   float64\n",
      "dtypes: float64(4), int64(1), object(7)\n",
      "memory usage: 799.2+ KB\n"
     ]
    }
   ],
   "source": [
    "df.info()"
   ]
  },
  {
   "cell_type": "code",
   "execution_count": 65,
   "id": "b4f88535",
   "metadata": {},
   "outputs": [
    {
     "data": {
      "text/plain": [
       "<Axes: xlabel='Item_Fat_Content', ylabel='count'>"
      ]
     },
     "execution_count": 65,
     "metadata": {},
     "output_type": "execute_result"
    },
    {
     "data": {
      "image/png": "[encoded data removed]",
      "text/plain": [
       "<Figure size 640x480 with 1 Axes>"
      ]
     },
     "metadata": {},
     "output_type": "display_data"
    }
   ],
   "source": [
    "sns.countplot(x=\"Item_Fat_Content\",data=df, color=\"Yellow\")\n"
   ]
  },
  {
   "cell_type": "code",
   "execution_count": 66,
   "id": "218536e0",
   "metadata": {},
   "outputs": [
    {
     "data": {
      "text/plain": [
       "<Axes: xlabel='Outlet_Size', ylabel='count'>"
      ]
     },
     "execution_count": 66,
     "metadata": {},
     "output_type": "execute_result"
    },
    {
     "data": {
      "image/png": "[encoded data removed]",
      "text/plain": [
       "<Figure size 640x480 with 1 Axes>"
      ]
     },
     "metadata": {},
     "output_type": "display_data"
    }
   ],
   "source": [
    "sns.countplot(x='Outlet_Size',data=df)"
   ]
  },
  {
   "cell_type": "code",
   "execution_count": 67,
   "id": "2d581d9b",
   "metadata": {},
   "outputs": [
    {
     "name": "stderr",
     "output_type": "stream",
     "text": [
      "C:\\Users\\hp\\AppData\\Local\\Temp\\ipykernel_10428\\244878538.py:1: FutureWarning: \n",
      "\n",
      "Passing `palette` without assigning `hue` is deprecated and will be removed in v0.14.0. Assign the `x` variable to `hue` and set `legend=False` for the same effect.\n",
      "\n",
      "  sns.countplot(x='Outlet_Type',data=df,palette=[\"#ff751a\",\"#1a75ff\",\"#2eb82e\",\"#e6e600\"])\n"
     ]
    },
    {
     "data": {
      "text/plain": [
       "<Axes: xlabel='Outlet_Type', ylabel='count'>"
      ]
     },
     "execution_count": 67,
     "metadata": {},
     "output_type": "execute_result"
    },
    {
     "data": {
      "image/png": "[encoded data removed]",
      "text/plain": [
       "<Figure size 640x480 with 1 Axes>"
      ]
     },
     "metadata": {},
     "output_type": "display_data"
    }
   ],
   "source": [
    "sns.countplot(x='Outlet_Type',data=df,palette=[\"#ff751a\",\"#1a75ff\",\"#2eb82e\",\"#e6e600\"])"
   ]
  },
  {
   "cell_type": "markdown",
   "id": "87a471cd",
   "metadata": {},
   "source": [
    "### Bivariate Analysis "
   ]
  },
  {
   "cell_type": "markdown",
   "id": "4cfb8828",
   "metadata": {},
   "source": [
    "* Analysis Between 'Item_MRP' and 'Item_Outlet_Sales'"
   ]
  },
  {
   "cell_type": "code",
   "execution_count": 68,
   "id": "16fadd1d",
   "metadata": {},
   "outputs": [
    {
     "data": {
      "image/png": "[encoded data removed]",
      "text/plain": [
       "<Figure size 1500x500 with 1 Axes>"
      ]
     },
     "metadata": {},
     "output_type": "display_data"
    }
   ],
   "source": [
    "plt.figure(figsize=(15,5))\n",
    "plt.scatter(df[\"Item_MRP\"],df[\"Item_Outlet_Sales\"])\n",
    "plt.xlabel(\"Item MRP\")\n",
    "plt.ylabel(\"Item Outlet Sales\")\n",
    "plt.show()"
   ]
  },
  {
   "cell_type": "markdown",
   "id": "b1201a11",
   "metadata": {},
   "source": [
    "* Analysis Between 'Outlet_Establishment_Year' and 'Item_Outlet_Sales'"
   ]
  },
  {
   "cell_type": "code",
   "execution_count": 69,
   "id": "7cf5bd6e",
   "metadata": {},
   "outputs": [
    {
     "data": {
      "image/png": "[encoded data removed]",
      "text/plain": [
       "<Figure size 640x480 with 1 Axes>"
      ]
     },
     "metadata": {},
     "output_type": "display_data"
    }
   ],
   "source": [
    "plt.bar(df['Outlet_Establishment_Year' ],df[\"Item_Outlet_Sales\"])\n",
    "plt.xlabel('Outlet_Establishment_Year' )\n",
    "plt.ylabel(\"Item Outlet Sales\")\n",
    "plt.show()\n"
   ]
  },
  {
   "cell_type": "markdown",
   "id": "9acb1db9",
   "metadata": {},
   "source": [
    "* Analysis Between 'Outlet_Type' and 'Item_Outlet_Sales'"
   ]
  },
  {
   "cell_type": "code",
   "execution_count": 70,
   "id": "f83071f7",
   "metadata": {},
   "outputs": [
    {
     "data": {
      "image/png": "[encoded data removed]",
      "text/plain": [
       "<Figure size 1500x500 with 1 Axes>"
      ]
     },
     "metadata": {},
     "output_type": "display_data"
    }
   ],
   "source": [
    "plt.figure(figsize=(15,5))\n",
    "plt.bar(df['Outlet_Type' ],df[\"Item_Outlet_Sales\"])\n",
    "plt.xlabel('Outlet_Type' )\n",
    "plt.ylabel(\"Item Outlet Sales\")\n",
    "plt.show()"
   ]
  },
  {
   "cell_type": "markdown",
   "id": "d3920f46",
   "metadata": {},
   "source": [
    "### Data Pre-Processing"
   ]
  },
  {
   "cell_type": "code",
   "execution_count": 71,
   "id": "69f5e79c",
   "metadata": {},
   "outputs": [
    {
     "data": {
      "text/plain": [
       "array(['Low Fat', 'Regular', 'low fat', 'LF', 'reg'], dtype=object)"
      ]
     },
     "execution_count": 71,
     "metadata": {},
     "output_type": "execute_result"
    }
   ],
   "source": [
    "from sklearn.preprocessing import MinMaxScaler\n",
    "df[\"Item_Fat_Content\"].unique()"
   ]
  },
  {
   "cell_type": "code",
   "execution_count": 72,
   "id": "120c8e1b",
   "metadata": {},
   "outputs": [],
   "source": [
    "df=df.replace({\"Item_Fat_Content\":{\"low fat\":\"Low Fat\",\"LF\":\"Low Fat\",\"reg\":\"Regular\"}})"
   ]
  },
  {
   "cell_type": "code",
   "execution_count": 73,
   "id": "182ba081",
   "metadata": {},
   "outputs": [
    {
     "data": {
      "text/plain": [
       "Low Fat    5517\n",
       "Regular    3006\n",
       "Name: Item_Fat_Content, dtype: int64"
      ]
     },
     "execution_count": 73,
     "metadata": {},
     "output_type": "execute_result"
    }
   ],
   "source": [
    "df[\"Item_Fat_Content\"].value_counts()"
   ]
  },
  {
   "cell_type": "markdown",
   "id": "1dcd3522",
   "metadata": {},
   "source": [
    "### Label Encoding"
   ]
  },
  {
   "cell_type": "code",
   "execution_count": 74,
   "id": "abae46cc",
   "metadata": {},
   "outputs": [
    {
     "data": {
      "text/plain": [
       "'Medium'"
      ]
     },
     "execution_count": 74,
     "metadata": {},
     "output_type": "execute_result"
    }
   ],
   "source": [
    "from sklearn.preprocessing import LabelEncoder\n",
    "\n",
    "encoder=LabelEncoder()\n",
    "df[\"Outlet_Size\"][3]"
   ]
  },
  {
   "cell_type": "code",
   "execution_count": 75,
   "id": "778a3de8",
   "metadata": {},
   "outputs": [
    {
     "data": {
      "text/html": [
       "<div>\n",
       "<style scoped>\n",
       "    .dataframe tbody tr th:only-of-type {\n",
       "        vertical-align: middle;\n",
       "    }\n",
       "\n",
       "    .dataframe tbody tr th {\n",
       "        vertical-align: top;\n",
       "    }\n",
       "\n",
       "    .dataframe thead th {\n",
       "        text-align: right;\n",
       "    }\n",
       "</style>\n",
       "<table border=\"1\" class=\"dataframe\">\n",
       "  <thead>\n",
       "    <tr style=\"text-align: right;\">\n",
       "      <th></th>\n",
       "      <th>Item_Identifier</th>\n",
       "      <th>Item_Fat_Content</th>\n",
       "      <th>Item_Type</th>\n",
       "      <th>Outlet_Identifier</th>\n",
       "      <th>Outlet_Size</th>\n",
       "      <th>Outlet_Location_Type</th>\n",
       "      <th>Outlet_Type</th>\n",
       "    </tr>\n",
       "  </thead>\n",
       "  <tbody>\n",
       "    <tr>\n",
       "      <th>0</th>\n",
       "      <td>FDA15</td>\n",
       "      <td>Low Fat</td>\n",
       "      <td>Dairy</td>\n",
       "      <td>OUT049</td>\n",
       "      <td>Medium</td>\n",
       "      <td>Tier 1</td>\n",
       "      <td>Supermarket Type1</td>\n",
       "    </tr>\n",
       "    <tr>\n",
       "      <th>1</th>\n",
       "      <td>DRC01</td>\n",
       "      <td>Regular</td>\n",
       "      <td>Soft Drinks</td>\n",
       "      <td>OUT018</td>\n",
       "      <td>Medium</td>\n",
       "      <td>Tier 3</td>\n",
       "      <td>Supermarket Type2</td>\n",
       "    </tr>\n",
       "    <tr>\n",
       "      <th>2</th>\n",
       "      <td>FDN15</td>\n",
       "      <td>Low Fat</td>\n",
       "      <td>Meat</td>\n",
       "      <td>OUT049</td>\n",
       "      <td>Medium</td>\n",
       "      <td>Tier 1</td>\n",
       "      <td>Supermarket Type1</td>\n",
       "    </tr>\n",
       "    <tr>\n",
       "      <th>3</th>\n",
       "      <td>FDX07</td>\n",
       "      <td>Regular</td>\n",
       "      <td>Fruits and Vegetables</td>\n",
       "      <td>OUT010</td>\n",
       "      <td>Medium</td>\n",
       "      <td>Tier 3</td>\n",
       "      <td>Grocery Store</td>\n",
       "    </tr>\n",
       "    <tr>\n",
       "      <th>4</th>\n",
       "      <td>NCD19</td>\n",
       "      <td>Low Fat</td>\n",
       "      <td>Household</td>\n",
       "      <td>OUT013</td>\n",
       "      <td>High</td>\n",
       "      <td>Tier 3</td>\n",
       "      <td>Supermarket Type1</td>\n",
       "    </tr>\n",
       "    <tr>\n",
       "      <th>...</th>\n",
       "      <td>...</td>\n",
       "      <td>...</td>\n",
       "      <td>...</td>\n",
       "      <td>...</td>\n",
       "      <td>...</td>\n",
       "      <td>...</td>\n",
       "      <td>...</td>\n",
       "    </tr>\n",
       "    <tr>\n",
       "      <th>8518</th>\n",
       "      <td>FDF22</td>\n",
       "      <td>Low Fat</td>\n",
       "      <td>Snack Foods</td>\n",
       "      <td>OUT013</td>\n",
       "      <td>High</td>\n",
       "      <td>Tier 3</td>\n",
       "      <td>Supermarket Type1</td>\n",
       "    </tr>\n",
       "    <tr>\n",
       "      <th>8519</th>\n",
       "      <td>FDS36</td>\n",
       "      <td>Regular</td>\n",
       "      <td>Baking Goods</td>\n",
       "      <td>OUT045</td>\n",
       "      <td>Medium</td>\n",
       "      <td>Tier 2</td>\n",
       "      <td>Supermarket Type1</td>\n",
       "    </tr>\n",
       "    <tr>\n",
       "      <th>8520</th>\n",
       "      <td>NCJ29</td>\n",
       "      <td>Low Fat</td>\n",
       "      <td>Health and Hygiene</td>\n",
       "      <td>OUT035</td>\n",
       "      <td>Small</td>\n",
       "      <td>Tier 2</td>\n",
       "      <td>Supermarket Type1</td>\n",
       "    </tr>\n",
       "    <tr>\n",
       "      <th>8521</th>\n",
       "      <td>FDN46</td>\n",
       "      <td>Regular</td>\n",
       "      <td>Snack Foods</td>\n",
       "      <td>OUT018</td>\n",
       "      <td>Medium</td>\n",
       "      <td>Tier 3</td>\n",
       "      <td>Supermarket Type2</td>\n",
       "    </tr>\n",
       "    <tr>\n",
       "      <th>8522</th>\n",
       "      <td>DRG01</td>\n",
       "      <td>Low Fat</td>\n",
       "      <td>Soft Drinks</td>\n",
       "      <td>OUT046</td>\n",
       "      <td>Small</td>\n",
       "      <td>Tier 1</td>\n",
       "      <td>Supermarket Type1</td>\n",
       "    </tr>\n",
       "  </tbody>\n",
       "</table>\n",
       "<p>8523 rows × 7 columns</p>\n",
       "</div>"
      ],
      "text/plain": [
       "     Item_Identifier Item_Fat_Content              Item_Type  \\\n",
       "0              FDA15          Low Fat                  Dairy   \n",
       "1              DRC01          Regular            Soft Drinks   \n",
       "2              FDN15          Low Fat                   Meat   \n",
       "3              FDX07          Regular  Fruits and Vegetables   \n",
       "4              NCD19          Low Fat              Household   \n",
       "...              ...              ...                    ...   \n",
       "8518           FDF22          Low Fat            Snack Foods   \n",
       "8519           FDS36          Regular           Baking Goods   \n",
       "8520           NCJ29          Low Fat     Health and Hygiene   \n",
       "8521           FDN46          Regular            Snack Foods   \n",
       "8522           DRG01          Low Fat            Soft Drinks   \n",
       "\n",
       "     Outlet_Identifier Outlet_Size Outlet_Location_Type        Outlet_Type  \n",
       "0               OUT049      Medium               Tier 1  Supermarket Type1  \n",
       "1               OUT018      Medium               Tier 3  Supermarket Type2  \n",
       "2               OUT049      Medium               Tier 1  Supermarket Type1  \n",
       "3               OUT010      Medium               Tier 3      Grocery Store  \n",
       "4               OUT013        High               Tier 3  Supermarket Type1  \n",
       "...                ...         ...                  ...                ...  \n",
       "8518            OUT013        High               Tier 3  Supermarket Type1  \n",
       "8519            OUT045      Medium               Tier 2  Supermarket Type1  \n",
       "8520            OUT035       Small               Tier 2  Supermarket Type1  \n",
       "8521            OUT018      Medium               Tier 3  Supermarket Type2  \n",
       "8522            OUT046       Small               Tier 1  Supermarket Type1  \n",
       "\n",
       "[8523 rows x 7 columns]"
      ]
     },
     "execution_count": 75,
     "metadata": {},
     "output_type": "execute_result"
    }
   ],
   "source": [
    "df.select_dtypes(include=['object'])"
   ]
  },
  {
   "cell_type": "code",
   "execution_count": 76,
   "id": "8947e5db",
   "metadata": {},
   "outputs": [],
   "source": [
    "df[\"Item_Identifier\"]=encoder.fit_transform(df[\"Item_Identifier\"])\n",
    "df[\"Item_Fat_Content\"]=encoder.fit_transform(df[\"Item_Fat_Content\"])\n",
    "df[\"Item_Type\"]=encoder.fit_transform(df[\"Item_Type\"])\n",
    "df[\"Outlet_Identifier\"]=encoder.fit_transform(df[\"Outlet_Identifier\"])\n",
    "df[\"Outlet_Size\"]=encoder.fit_transform(df[\"Outlet_Size\"])\n",
    "df[\"Outlet_Location_Type\"]=encoder.fit_transform(df[\"Outlet_Location_Type\"])\n",
    "df[\"Outlet_Type\"]=encoder.fit_transform(df[\"Outlet_Type\"])"
   ]
  },
  {
   "cell_type": "code",
   "execution_count": 77,
   "id": "b041b2e8",
   "metadata": {},
   "outputs": [],
   "source": [
    "df.drop([\"Item_Identifier\",\"Outlet_Identifier\"],axis=1,inplace=True)\n"
   ]
  },
  {
   "cell_type": "markdown",
   "id": "ca7397cc",
   "metadata": {},
   "source": [
    "### Scaling \n"
   ]
  },
  {
   "cell_type": "code",
   "execution_count": 78,
   "id": "ea7d4f60",
   "metadata": {},
   "outputs": [
    {
     "data": {
      "text/html": [
       "<div>\n",
       "<style scoped>\n",
       "    .dataframe tbody tr th:only-of-type {\n",
       "        vertical-align: middle;\n",
       "    }\n",
       "\n",
       "    .dataframe tbody tr th {\n",
       "        vertical-align: top;\n",
       "    }\n",
       "\n",
       "    .dataframe thead th {\n",
       "        text-align: right;\n",
       "    }\n",
       "</style>\n",
       "<table border=\"1\" class=\"dataframe\">\n",
       "  <thead>\n",
       "    <tr style=\"text-align: right;\">\n",
       "      <th></th>\n",
       "      <th>Item_Weight</th>\n",
       "      <th>Item_Fat_Content</th>\n",
       "      <th>Item_Visibility</th>\n",
       "      <th>Item_Type</th>\n",
       "      <th>Item_MRP</th>\n",
       "      <th>Outlet_Establishment_Year</th>\n",
       "      <th>Outlet_Size</th>\n",
       "      <th>Outlet_Location_Type</th>\n",
       "      <th>Outlet_Type</th>\n",
       "      <th>Item_Outlet_Sales</th>\n",
       "    </tr>\n",
       "  </thead>\n",
       "  <tbody>\n",
       "    <tr>\n",
       "      <th>0</th>\n",
       "      <td>9.30</td>\n",
       "      <td>0</td>\n",
       "      <td>0.016047</td>\n",
       "      <td>4</td>\n",
       "      <td>249.8092</td>\n",
       "      <td>1999</td>\n",
       "      <td>1</td>\n",
       "      <td>0</td>\n",
       "      <td>1</td>\n",
       "      <td>3735.1380</td>\n",
       "    </tr>\n",
       "    <tr>\n",
       "      <th>1</th>\n",
       "      <td>5.92</td>\n",
       "      <td>1</td>\n",
       "      <td>0.019278</td>\n",
       "      <td>14</td>\n",
       "      <td>48.2692</td>\n",
       "      <td>2009</td>\n",
       "      <td>1</td>\n",
       "      <td>2</td>\n",
       "      <td>2</td>\n",
       "      <td>443.4228</td>\n",
       "    </tr>\n",
       "    <tr>\n",
       "      <th>2</th>\n",
       "      <td>17.50</td>\n",
       "      <td>0</td>\n",
       "      <td>0.016760</td>\n",
       "      <td>10</td>\n",
       "      <td>141.6180</td>\n",
       "      <td>1999</td>\n",
       "      <td>1</td>\n",
       "      <td>0</td>\n",
       "      <td>1</td>\n",
       "      <td>2097.2700</td>\n",
       "    </tr>\n",
       "    <tr>\n",
       "      <th>3</th>\n",
       "      <td>19.20</td>\n",
       "      <td>1</td>\n",
       "      <td>0.000000</td>\n",
       "      <td>6</td>\n",
       "      <td>182.0950</td>\n",
       "      <td>1998</td>\n",
       "      <td>1</td>\n",
       "      <td>2</td>\n",
       "      <td>0</td>\n",
       "      <td>732.3800</td>\n",
       "    </tr>\n",
       "    <tr>\n",
       "      <th>4</th>\n",
       "      <td>8.93</td>\n",
       "      <td>0</td>\n",
       "      <td>0.000000</td>\n",
       "      <td>9</td>\n",
       "      <td>53.8614</td>\n",
       "      <td>1987</td>\n",
       "      <td>0</td>\n",
       "      <td>2</td>\n",
       "      <td>1</td>\n",
       "      <td>994.7052</td>\n",
       "    </tr>\n",
       "  </tbody>\n",
       "</table>\n",
       "</div>"
      ],
      "text/plain": [
       "   Item_Weight  Item_Fat_Content  Item_Visibility  Item_Type  Item_MRP  \\\n",
       "0         9.30                 0         0.016047          4  249.8092   \n",
       "1         5.92                 1         0.019278         14   48.2692   \n",
       "2        17.50                 0         0.016760         10  141.6180   \n",
       "3        19.20                 1         0.000000          6  182.0950   \n",
       "4         8.93                 0         0.000000          9   53.8614   \n",
       "\n",
       "   Outlet_Establishment_Year  Outlet_Size  Outlet_Location_Type  Outlet_Type  \\\n",
       "0                       1999            1                     0            1   \n",
       "1                       2009            1                     2            2   \n",
       "2                       1999            1                     0            1   \n",
       "3                       1998            1                     2            0   \n",
       "4                       1987            0                     2            1   \n",
       "\n",
       "   Item_Outlet_Sales  \n",
       "0          3735.1380  \n",
       "1           443.4228  \n",
       "2          2097.2700  \n",
       "3           732.3800  \n",
       "4           994.7052  "
      ]
     },
     "execution_count": 78,
     "metadata": {},
     "output_type": "execute_result"
    }
   ],
   "source": [
    "minmax_scale=MinMaxScaler()\n",
    "df.head()"
   ]
  },
  {
   "cell_type": "code",
   "execution_count": 79,
   "id": "648119ec",
   "metadata": {},
   "outputs": [],
   "source": [
    "scale_columns=[\"Item_Weight\",\"Item_Visibility\",\"Item_Type\",\"Item_MRP\",\"Outlet_Establishment_Year\",\"Outlet_Size\",\"Outlet_Location_Type\",\"Outlet_Type\"]\n",
    "df[scale_columns]=minmax_scale.fit_transform(df[scale_columns])"
   ]
  },
  {
   "cell_type": "code",
   "execution_count": 80,
   "id": "b1890b93",
   "metadata": {},
   "outputs": [
    {
     "data": {
      "text/plain": [
       "(8523, 10)"
      ]
     },
     "execution_count": 80,
     "metadata": {},
     "output_type": "execute_result"
    }
   ],
   "source": [
    "# bigMart_data=pd.DataFrame(bigMart_data,columns=df.columns)\n",
    "# bigMart_data\n",
    "df.shape"
   ]
  },
  {
   "cell_type": "markdown",
   "id": "5c87a6cc",
   "metadata": {},
   "source": [
    "### Splitting of data into train and test data"
   ]
  },
  {
   "cell_type": "code",
   "execution_count": 81,
   "id": "be3be3fa",
   "metadata": {},
   "outputs": [
    {
     "data": {
      "text/plain": [
       "0    3735.1380\n",
       "1     443.4228\n",
       "2    2097.2700\n",
       "3     732.3800\n",
       "4     994.7052\n",
       "Name: Item_Outlet_Sales, dtype: float64"
      ]
     },
     "execution_count": 81,
     "metadata": {},
     "output_type": "execute_result"
    }
   ],
   "source": [
    "df[\"Item_Outlet_Sales\"].head()"
   ]
  },
  {
   "cell_type": "code",
   "execution_count": 82,
   "id": "3bf63e12",
   "metadata": {},
   "outputs": [],
   "source": [
    "from sklearn.model_selection import train_test_split\n",
    "\n",
    "X=df.drop(\"Item_Outlet_Sales\",axis=1)\n",
    "y=df[\"Item_Outlet_Sales\"]"
   ]
  },
  {
   "cell_type": "code",
   "execution_count": 83,
   "id": "4a8dcc42",
   "metadata": {},
   "outputs": [
    {
     "data": {
      "text/plain": [
       "((8523, 9), (8523,))"
      ]
     },
     "execution_count": 83,
     "metadata": {},
     "output_type": "execute_result"
    }
   ],
   "source": [
    "X.shape,y.shape"
   ]
  },
  {
   "cell_type": "code",
   "execution_count": 84,
   "id": "3facbcf0",
   "metadata": {},
   "outputs": [
    {
     "data": {
      "text/plain": [
       "((5966, 9), (2557, 9))"
      ]
     },
     "execution_count": 84,
     "metadata": {},
     "output_type": "execute_result"
    }
   ],
   "source": [
    "X_train,X_test,y_train,y_test=train_test_split(X,y,test_size=0.3,random_state=42)\n",
    "X_train.shape,X_test.shape"
   ]
  },
  {
   "cell_type": "code",
   "execution_count": 85,
   "id": "bccfc7fb",
   "metadata": {},
   "outputs": [
    {
     "data": {
      "text/plain": [
       "((5966,), (2557,))"
      ]
     },
     "execution_count": 85,
     "metadata": {},
     "output_type": "execute_result"
    }
   ],
   "source": [
    "y_train.shape,y_test.shape"
   ]
  },
  {
   "cell_type": "markdown",
   "id": "e7d5ee77",
   "metadata": {},
   "source": [
    "### Model_Selection\n",
    "\n",
    "* Linear Regression\n",
    "* Regularized Linear Regression\n",
    "* RandomForest\n",
    "* XGBoost"
   ]
  },
  {
   "cell_type": "markdown",
   "id": "7be9c89a",
   "metadata": {},
   "source": [
    "## Linear Regression Model Prediction"
   ]
  },
  {
   "cell_type": "code",
   "execution_count": 86,
   "id": "372c69ac",
   "metadata": {},
   "outputs": [],
   "source": [
    "from sklearn.linear_model import LinearRegression,LogisticRegression\n",
    "from sklearn.ensemble import RandomForestRegressor"
   ]
  },
  {
   "cell_type": "code",
   "execution_count": 87,
   "id": "0abdc7d9",
   "metadata": {},
   "outputs": [
    {
     "data": {
      "text/html": [
       "<style>#sk-container-id-1 {color: black;}#sk-container-id-1 pre{padding: 0;}#sk-container-id-1 div.sk-toggleable {background-color: white;}#sk-container-id-1 label.sk-toggleable__label {cursor: pointer;display: block;width: 100%;margin-bottom: 0;padding: 0.3em;box-sizing: border-box;text-align: center;}#sk-container-id-1 label.sk-toggleable__label-arrow:before {content: \"▸\";float: left;margin-right: 0.25em;color: #696969;}#sk-container-id-1 label.sk-toggleable__label-arrow:hover:before {color: black;}#sk-container-id-1 div.sk-estimator:hover label.sk-toggleable__label-arrow:before {color: black;}#sk-container-id-1 div.sk-toggleable__content {max-height: 0;max-width: 0;overflow: hidden;text-align: left;background-color: #f0f8ff;}#sk-container-id-1 div.sk-toggleable__content pre {margin: 0.2em;color: black;border-radius: 0.25em;background-color: #f0f8ff;}#sk-container-id-1 input.sk-toggleable__control:checked~div.sk-toggleable__content {max-height: 200px;max-width: 100%;overflow: auto;}#sk-container-id-1 input.sk-toggleable__control:checked~label.sk-toggleable__label-arrow:before {content: \"▾\";}#sk-container-id-1 div.sk-estimator input.sk-toggleable__control:checked~label.sk-toggleable__label {background-color: #d4ebff;}#sk-container-id-1 div.sk-label input.sk-toggleable__control:checked~label.sk-toggleable__label {background-color: #d4ebff;}#sk-container-id-1 input.sk-hidden--visually {border: 0;clip: rect(1px 1px 1px 1px);clip: rect(1px, 1px, 1px, 1px);height: 1px;margin: -1px;overflow: hidden;padding: 0;position: absolute;width: 1px;}#sk-container-id-1 div.sk-estimator {font-family: monospace;background-color: #f0f8ff;border: 1px dotted black;border-radius: 0.25em;box-sizing: border-box;margin-bottom: 0.5em;}#sk-container-id-1 div.sk-estimator:hover {background-color: #d4ebff;}#sk-container-id-1 div.sk-parallel-item::after {content: \"\";width: 100%;border-bottom: 1px solid gray;flex-grow: 1;}#sk-container-id-1 div.sk-label:hover label.sk-toggleable__label {background-color: #d4ebff;}#sk-container-id-1 div.sk-serial::before {content: \"\";position: absolute;border-left: 1px solid gray;box-sizing: border-box;top: 0;bottom: 0;left: 50%;z-index: 0;}#sk-container-id-1 div.sk-serial {display: flex;flex-direction: column;align-items: center;background-color: white;padding-right: 0.2em;padding-left: 0.2em;position: relative;}#sk-container-id-1 div.sk-item {position: relative;z-index: 1;}#sk-container-id-1 div.sk-parallel {display: flex;align-items: stretch;justify-content: center;background-color: white;position: relative;}#sk-container-id-1 div.sk-item::before, #sk-container-id-1 div.sk-parallel-item::before {content: \"\";position: absolute;border-left: 1px solid gray;box-sizing: border-box;top: 0;bottom: 0;left: 50%;z-index: -1;}#sk-container-id-1 div.sk-parallel-item {display: flex;flex-direction: column;z-index: 1;position: relative;background-color: white;}#sk-container-id-1 div.sk-parallel-item:first-child::after {align-self: flex-end;width: 50%;}#sk-container-id-1 div.sk-parallel-item:last-child::after {align-self: flex-start;width: 50%;}#sk-container-id-1 div.sk-parallel-item:only-child::after {width: 0;}#sk-container-id-1 div.sk-dashed-wrapped {border: 1px dashed gray;margin: 0 0.4em 0.5em 0.4em;box-sizing: border-box;padding-bottom: 0.4em;background-color: white;}#sk-container-id-1 div.sk-label label {font-family: monospace;font-weight: bold;display: inline-block;line-height: 1.2em;}#sk-container-id-1 div.sk-label-container {text-align: center;}#sk-container-id-1 div.sk-container {/* jupyter's `normalize.less` sets `[hidden] { display: none; }` but bootstrap.min.css set `[hidden] { display: none !important; }` so we also need the `!important` here to be able to override the default hidden behavior on the sphinx rendered scikit-learn.org. See: https://github.com/scikit-learn/scikit-learn/issues/21755 */display: inline-block !important;position: relative;}#sk-container-id-1 div.sk-text-repr-fallback {display: none;}</style><div id=\"sk-container-id-1\" class=\"sk-top-container\"><div class=\"sk-text-repr-fallback\"><pre>LinearRegression()</pre><b>In a Jupyter environment, please rerun this cell to show the HTML representation or trust the notebook. <br />On GitHub, the HTML representation is unable to render, please try loading this page with nbviewer.org.</b></div><div class=\"sk-container\" hidden><div class=\"sk-item\"><div class=\"sk-estimator sk-toggleable\"><input class=\"sk-toggleable__control sk-hidden--visually\" id=\"sk-estimator-id-1\" type=\"checkbox\" checked><label for=\"sk-estimator-id-1\" class=\"sk-toggleable__label sk-toggleable__label-arrow\">LinearRegression</label><div class=\"sk-toggleable__content\"><pre>LinearRegression()</pre></div></div></div></div></div>"
      ],
      "text/plain": [
       "LinearRegression()"
      ]
     },
     "execution_count": 87,
     "metadata": {},
     "output_type": "execute_result"
    }
   ],
   "source": [
    "linear_model=LinearRegression()\n",
    "linear_model.fit(X_train,y_train)"
   ]
  },
  {
   "cell_type": "code",
   "execution_count": 88,
   "id": "9040b615",
   "metadata": {},
   "outputs": [
    {
     "data": {
      "text/plain": [
       "0.5105725820354808"
      ]
     },
     "execution_count": 88,
     "metadata": {},
     "output_type": "execute_result"
    }
   ],
   "source": [
    "linear_model.score(X_test,y_test)"
   ]
  },
  {
   "cell_type": "code",
   "execution_count": 89,
   "id": "4fb99a63",
   "metadata": {},
   "outputs": [],
   "source": [
    "y_pred=linear_model.predict(X_test)"
   ]
  },
  {
   "cell_type": "code",
   "execution_count": 90,
   "id": "75468f0f",
   "metadata": {},
   "outputs": [
    {
     "name": "stdout",
     "output_type": "stream",
     "text": [
      "r2_score_train based on lasso model: 0.5057932713940642\n",
      "r2_score_test based on lasso model : 0.5105725820354808\n"
     ]
    }
   ],
   "source": [
    "linear_model_pred_train=linear_model.predict(X_train)\n",
    "linear_model_pred_test=linear_model.predict(X_test)\n",
    "\n",
    "r2_score_train=r2_score(y_train,linear_model_pred_train)\n",
    "r2_score_test=r2_score(y_test,linear_model_pred_test)\n",
    "\n",
    "print(\"r2_score_train based on lasso model:\",r2_score_train)\n",
    "print(\"r2_score_test based on lasso model :\",r2_score_test)"
   ]
  },
  {
   "cell_type": "code",
   "execution_count": 91,
   "id": "a2eb47da",
   "metadata": {},
   "outputs": [
    {
     "name": "stdout",
     "output_type": "stream",
     "text": [
      "Mean_Absolute_Error : 874.0705498540448\n",
      "Mean_Squarred_Error : 1370883.0298318372\n"
     ]
    }
   ],
   "source": [
    "from sklearn.metrics import mean_absolute_error,mean_squared_error\n",
    "print(\"Mean_Absolute_Error :\",mean_absolute_error(y_test,y_pred))\n",
    "print(\"Mean_Squarred_Error :\",mean_squared_error(y_test,y_pred))"
   ]
  },
  {
   "cell_type": "markdown",
   "id": "86d62ea8",
   "metadata": {},
   "source": [
    "###  RandomForest Regression model "
   ]
  },
  {
   "cell_type": "code",
   "execution_count": 92,
   "id": "8be01a85",
   "metadata": {},
   "outputs": [],
   "source": [
    "random_model=RandomForestRegressor()\n",
    "\n",
    "random_model.fit(X_train,y_train)\n",
    "random_model.score(X_test,y_test)\n",
    "\n",
    "y_train_pred=random_model.predict(X_train)\n",
    "y_test_pred=random_model.predict(X_test)"
   ]
  },
  {
   "cell_type": "code",
   "execution_count": 93,
   "id": "32c4f6ea",
   "metadata": {},
   "outputs": [
    {
     "name": "stdout",
     "output_type": "stream",
     "text": [
      "y_train_preds: [ 148.792984 1419.825158 4139.984348 ... 5452.216226 1696.69143\n",
      " 1294.807892]\n",
      "y_test_preds: [ 785.757186  991.54265   485.840918 ...  536.974358 1914.567822\n",
      " 4785.60395 ]\n"
     ]
    }
   ],
   "source": [
    "print(\"y_train_preds:\", random_model.predict(X_train))\n",
    "print(\"y_test_preds:\", random_model.predict(X_test))"
   ]
  },
  {
   "cell_type": "markdown",
   "id": "e814121a",
   "metadata": {},
   "source": [
    "#### Hyperparmeter Tuning of RandomForest Regressor "
   ]
  },
  {
   "cell_type": "code",
   "execution_count": 94,
   "id": "2734ddf2",
   "metadata": {},
   "outputs": [
    {
     "name": "stdout",
     "output_type": "stream",
     "text": [
      "Fitting 5 folds for each of 20 candidates, totalling 100 fits\n"
     ]
    },
    {
     "data": {
      "text/html": [
       "<style>#sk-container-id-2 {color: black;}#sk-container-id-2 pre{padding: 0;}#sk-container-id-2 div.sk-toggleable {background-color: white;}#sk-container-id-2 label.sk-toggleable__label {cursor: pointer;display: block;width: 100%;margin-bottom: 0;padding: 0.3em;box-sizing: border-box;text-align: center;}#sk-container-id-2 label.sk-toggleable__label-arrow:before {content: \"▸\";float: left;margin-right: 0.25em;color: #696969;}#sk-container-id-2 label.sk-toggleable__label-arrow:hover:before {color: black;}#sk-container-id-2 div.sk-estimator:hover label.sk-toggleable__label-arrow:before {color: black;}#sk-container-id-2 div.sk-toggleable__content {max-height: 0;max-width: 0;overflow: hidden;text-align: left;background-color: #f0f8ff;}#sk-container-id-2 div.sk-toggleable__content pre {margin: 0.2em;color: black;border-radius: 0.25em;background-color: #f0f8ff;}#sk-container-id-2 input.sk-toggleable__control:checked~div.sk-toggleable__content {max-height: 200px;max-width: 100%;overflow: auto;}#sk-container-id-2 input.sk-toggleable__control:checked~label.sk-toggleable__label-arrow:before {content: \"▾\";}#sk-container-id-2 div.sk-estimator input.sk-toggleable__control:checked~label.sk-toggleable__label {background-color: #d4ebff;}#sk-container-id-2 div.sk-label input.sk-toggleable__control:checked~label.sk-toggleable__label {background-color: #d4ebff;}#sk-container-id-2 input.sk-hidden--visually {border: 0;clip: rect(1px 1px 1px 1px);clip: rect(1px, 1px, 1px, 1px);height: 1px;margin: -1px;overflow: hidden;padding: 0;position: absolute;width: 1px;}#sk-container-id-2 div.sk-estimator {font-family: monospace;background-color: #f0f8ff;border: 1px dotted black;border-radius: 0.25em;box-sizing: border-box;margin-bottom: 0.5em;}#sk-container-id-2 div.sk-estimator:hover {background-color: #d4ebff;}#sk-container-id-2 div.sk-parallel-item::after {content: \"\";width: 100%;border-bottom: 1px solid gray;flex-grow: 1;}#sk-container-id-2 div.sk-label:hover label.sk-toggleable__label {background-color: #d4ebff;}#sk-container-id-2 div.sk-serial::before {content: \"\";position: absolute;border-left: 1px solid gray;box-sizing: border-box;top: 0;bottom: 0;left: 50%;z-index: 0;}#sk-container-id-2 div.sk-serial {display: flex;flex-direction: column;align-items: center;background-color: white;padding-right: 0.2em;padding-left: 0.2em;position: relative;}#sk-container-id-2 div.sk-item {position: relative;z-index: 1;}#sk-container-id-2 div.sk-parallel {display: flex;align-items: stretch;justify-content: center;background-color: white;position: relative;}#sk-container-id-2 div.sk-item::before, #sk-container-id-2 div.sk-parallel-item::before {content: \"\";position: absolute;border-left: 1px solid gray;box-sizing: border-box;top: 0;bottom: 0;left: 50%;z-index: -1;}#sk-container-id-2 div.sk-parallel-item {display: flex;flex-direction: column;z-index: 1;position: relative;background-color: white;}#sk-container-id-2 div.sk-parallel-item:first-child::after {align-self: flex-end;width: 50%;}#sk-container-id-2 div.sk-parallel-item:last-child::after {align-self: flex-start;width: 50%;}#sk-container-id-2 div.sk-parallel-item:only-child::after {width: 0;}#sk-container-id-2 div.sk-dashed-wrapped {border: 1px dashed gray;margin: 0 0.4em 0.5em 0.4em;box-sizing: border-box;padding-bottom: 0.4em;background-color: white;}#sk-container-id-2 div.sk-label label {font-family: monospace;font-weight: bold;display: inline-block;line-height: 1.2em;}#sk-container-id-2 div.sk-label-container {text-align: center;}#sk-container-id-2 div.sk-container {/* jupyter's `normalize.less` sets `[hidden] { display: none; }` but bootstrap.min.css set `[hidden] { display: none !important; }` so we also need the `!important` here to be able to override the default hidden behavior on the sphinx rendered scikit-learn.org. See: https://github.com/scikit-learn/scikit-learn/issues/21755 */display: inline-block !important;position: relative;}#sk-container-id-2 div.sk-text-repr-fallback {display: none;}</style><div id=\"sk-container-id-2\" class=\"sk-top-container\"><div class=\"sk-text-repr-fallback\"><pre>RandomizedSearchCV(cv=5, estimator=RandomForestRegressor(), n_iter=20,\n",
       "                   param_distributions={&#x27;max_depth&#x27;: [None, 3, 5, 10],\n",
       "                                        &#x27;max_features&#x27;: [0.5, 1.0, &#x27;sqrt&#x27;],\n",
       "                                        &#x27;max_samples&#x27;: [1500],\n",
       "                                        &#x27;min_samples_leaf&#x27;: array([ 1,  3,  5,  7,  9, 11, 13, 15, 17, 19]),\n",
       "                                        &#x27;min_samples_split&#x27;: array([ 2,  4,  6,  8, 10, 12, 14, 16, 18]),\n",
       "                                        &#x27;n_estimators&#x27;: array([10, 20, 30, 40, 50, 60, 70, 80, 90])},\n",
       "                   verbose=True)</pre><b>In a Jupyter environment, please rerun this cell to show the HTML representation or trust the notebook. <br />On GitHub, the HTML representation is unable to render, please try loading this page with nbviewer.org.</b></div><div class=\"sk-container\" hidden><div class=\"sk-item sk-dashed-wrapped\"><div class=\"sk-label-container\"><div class=\"sk-label sk-toggleable\"><input class=\"sk-toggleable__control sk-hidden--visually\" id=\"sk-estimator-id-2\" type=\"checkbox\" ><label for=\"sk-estimator-id-2\" class=\"sk-toggleable__label sk-toggleable__label-arrow\">RandomizedSearchCV</label><div class=\"sk-toggleable__content\"><pre>RandomizedSearchCV(cv=5, estimator=RandomForestRegressor(), n_iter=20,\n",
       "                   param_distributions={&#x27;max_depth&#x27;: [None, 3, 5, 10],\n",
       "                                        &#x27;max_features&#x27;: [0.5, 1.0, &#x27;sqrt&#x27;],\n",
       "                                        &#x27;max_samples&#x27;: [1500],\n",
       "                                        &#x27;min_samples_leaf&#x27;: array([ 1,  3,  5,  7,  9, 11, 13, 15, 17, 19]),\n",
       "                                        &#x27;min_samples_split&#x27;: array([ 2,  4,  6,  8, 10, 12, 14, 16, 18]),\n",
       "                                        &#x27;n_estimators&#x27;: array([10, 20, 30, 40, 50, 60, 70, 80, 90])},\n",
       "                   verbose=True)</pre></div></div></div><div class=\"sk-parallel\"><div class=\"sk-parallel-item\"><div class=\"sk-item\"><div class=\"sk-label-container\"><div class=\"sk-label sk-toggleable\"><input class=\"sk-toggleable__control sk-hidden--visually\" id=\"sk-estimator-id-3\" type=\"checkbox\" ><label for=\"sk-estimator-id-3\" class=\"sk-toggleable__label sk-toggleable__label-arrow\">estimator: RandomForestRegressor</label><div class=\"sk-toggleable__content\"><pre>RandomForestRegressor()</pre></div></div></div><div class=\"sk-serial\"><div class=\"sk-item\"><div class=\"sk-estimator sk-toggleable\"><input class=\"sk-toggleable__control sk-hidden--visually\" id=\"sk-estimator-id-4\" type=\"checkbox\" ><label for=\"sk-estimator-id-4\" class=\"sk-toggleable__label sk-toggleable__label-arrow\">RandomForestRegressor</label><div class=\"sk-toggleable__content\"><pre>RandomForestRegressor()</pre></div></div></div></div></div></div></div></div></div></div>"
      ],
      "text/plain": [
       "RandomizedSearchCV(cv=5, estimator=RandomForestRegressor(), n_iter=20,\n",
       "                   param_distributions={'max_depth': [None, 3, 5, 10],\n",
       "                                        'max_features': [0.5, 1.0, 'sqrt'],\n",
       "                                        'max_samples': [1500],\n",
       "                                        'min_samples_leaf': array([ 1,  3,  5,  7,  9, 11, 13, 15, 17, 19]),\n",
       "                                        'min_samples_split': array([ 2,  4,  6,  8, 10, 12, 14, 16, 18]),\n",
       "                                        'n_estimators': array([10, 20, 30, 40, 50, 60, 70, 80, 90])},\n",
       "                   verbose=True)"
      ]
     },
     "execution_count": 94,
     "metadata": {},
     "output_type": "execute_result"
    }
   ],
   "source": [
    "from sklearn.model_selection import RandomizedSearchCV\n",
    "\n",
    "# Different RandomForestClassifier hyperparameters\n",
    "rf_grid = {\"n_estimators\": np.arange(10, 100, 10),\n",
    "           \"max_depth\": [None, 3, 5, 10],\n",
    "           \"min_samples_split\": np.arange(2, 20, 2),\n",
    "           \"min_samples_leaf\": np.arange(1, 20, 2),\n",
    "           \"max_features\": [0.5, 1.0, \"sqrt\"], # Note: \"max_features='auto'\" is equivalent to \"max_features=1.0\", as of Scikit-Learn version 1.1\n",
    "           \"max_samples\": [1500]}\n",
    "\n",
    "rs_model = RandomizedSearchCV(RandomForestRegressor(),\n",
    "                              param_distributions=rf_grid,\n",
    "                              n_iter=20,\n",
    "                              cv=5,\n",
    "                              verbose=True)\n",
    "\n",
    "rs_model.fit(X_train, y_train)"
   ]
  },
  {
   "cell_type": "code",
   "execution_count": 95,
   "id": "500ad2ec",
   "metadata": {},
   "outputs": [
    {
     "data": {
      "text/plain": [
       "{'n_estimators': 40,\n",
       " 'min_samples_split': 16,\n",
       " 'min_samples_leaf': 17,\n",
       " 'max_samples': 1500,\n",
       " 'max_features': 1.0,\n",
       " 'max_depth': 5}"
      ]
     },
     "execution_count": 95,
     "metadata": {},
     "output_type": "execute_result"
    }
   ],
   "source": [
    "rs_model.best_params_"
   ]
  },
  {
   "cell_type": "code",
   "execution_count": 96,
   "id": "e114ab8a",
   "metadata": {},
   "outputs": [
    {
     "name": "stdout",
     "output_type": "stream",
     "text": [
      "Fitting 5 folds for each of 30 candidates, totalling 150 fits\n"
     ]
    },
    {
     "data": {
      "text/html": [
       "<style>#sk-container-id-3 {color: black;}#sk-container-id-3 pre{padding: 0;}#sk-container-id-3 div.sk-toggleable {background-color: white;}#sk-container-id-3 label.sk-toggleable__label {cursor: pointer;display: block;width: 100%;margin-bottom: 0;padding: 0.3em;box-sizing: border-box;text-align: center;}#sk-container-id-3 label.sk-toggleable__label-arrow:before {content: \"▸\";float: left;margin-right: 0.25em;color: #696969;}#sk-container-id-3 label.sk-toggleable__label-arrow:hover:before {color: black;}#sk-container-id-3 div.sk-estimator:hover label.sk-toggleable__label-arrow:before {color: black;}#sk-container-id-3 div.sk-toggleable__content {max-height: 0;max-width: 0;overflow: hidden;text-align: left;background-color: #f0f8ff;}#sk-container-id-3 div.sk-toggleable__content pre {margin: 0.2em;color: black;border-radius: 0.25em;background-color: #f0f8ff;}#sk-container-id-3 input.sk-toggleable__control:checked~div.sk-toggleable__content {max-height: 200px;max-width: 100%;overflow: auto;}#sk-container-id-3 input.sk-toggleable__control:checked~label.sk-toggleable__label-arrow:before {content: \"▾\";}#sk-container-id-3 div.sk-estimator input.sk-toggleable__control:checked~label.sk-toggleable__label {background-color: #d4ebff;}#sk-container-id-3 div.sk-label input.sk-toggleable__control:checked~label.sk-toggleable__label {background-color: #d4ebff;}#sk-container-id-3 input.sk-hidden--visually {border: 0;clip: rect(1px 1px 1px 1px);clip: rect(1px, 1px, 1px, 1px);height: 1px;margin: -1px;overflow: hidden;padding: 0;position: absolute;width: 1px;}#sk-container-id-3 div.sk-estimator {font-family: monospace;background-color: #f0f8ff;border: 1px dotted black;border-radius: 0.25em;box-sizing: border-box;margin-bottom: 0.5em;}#sk-container-id-3 div.sk-estimator:hover {background-color: #d4ebff;}#sk-container-id-3 div.sk-parallel-item::after {content: \"\";width: 100%;border-bottom: 1px solid gray;flex-grow: 1;}#sk-container-id-3 div.sk-label:hover label.sk-toggleable__label {background-color: #d4ebff;}#sk-container-id-3 div.sk-serial::before {content: \"\";position: absolute;border-left: 1px solid gray;box-sizing: border-box;top: 0;bottom: 0;left: 50%;z-index: 0;}#sk-container-id-3 div.sk-serial {display: flex;flex-direction: column;align-items: center;background-color: white;padding-right: 0.2em;padding-left: 0.2em;position: relative;}#sk-container-id-3 div.sk-item {position: relative;z-index: 1;}#sk-container-id-3 div.sk-parallel {display: flex;align-items: stretch;justify-content: center;background-color: white;position: relative;}#sk-container-id-3 div.sk-item::before, #sk-container-id-3 div.sk-parallel-item::before {content: \"\";position: absolute;border-left: 1px solid gray;box-sizing: border-box;top: 0;bottom: 0;left: 50%;z-index: -1;}#sk-container-id-3 div.sk-parallel-item {display: flex;flex-direction: column;z-index: 1;position: relative;background-color: white;}#sk-container-id-3 div.sk-parallel-item:first-child::after {align-self: flex-end;width: 50%;}#sk-container-id-3 div.sk-parallel-item:last-child::after {align-self: flex-start;width: 50%;}#sk-container-id-3 div.sk-parallel-item:only-child::after {width: 0;}#sk-container-id-3 div.sk-dashed-wrapped {border: 1px dashed gray;margin: 0 0.4em 0.5em 0.4em;box-sizing: border-box;padding-bottom: 0.4em;background-color: white;}#sk-container-id-3 div.sk-label label {font-family: monospace;font-weight: bold;display: inline-block;line-height: 1.2em;}#sk-container-id-3 div.sk-label-container {text-align: center;}#sk-container-id-3 div.sk-container {/* jupyter's `normalize.less` sets `[hidden] { display: none; }` but bootstrap.min.css set `[hidden] { display: none !important; }` so we also need the `!important` here to be able to override the default hidden behavior on the sphinx rendered scikit-learn.org. See: https://github.com/scikit-learn/scikit-learn/issues/21755 */display: inline-block !important;position: relative;}#sk-container-id-3 div.sk-text-repr-fallback {display: none;}</style><div id=\"sk-container-id-3\" class=\"sk-top-container\"><div class=\"sk-text-repr-fallback\"><pre>RandomizedSearchCV(cv=5, estimator=RandomForestRegressor(), n_iter=30,\n",
       "                   param_distributions={&#x27;max_depth&#x27;: [None, 3, 5, 10],\n",
       "                                        &#x27;max_features&#x27;: [0.5, 1.0, &#x27;sqrt&#x27;],\n",
       "                                        &#x27;max_samples&#x27;: [1500],\n",
       "                                        &#x27;min_samples_leaf&#x27;: array([ 1,  3,  5,  7,  9, 11, 13, 15, 17, 19]),\n",
       "                                        &#x27;min_samples_split&#x27;: array([ 2,  4,  6,  8, 10, 12, 14, 16, 18]),\n",
       "                                        &#x27;n_estimators&#x27;: array([10, 20, 30, 40, 50, 60, 70, 80, 90])},\n",
       "                   verbose=True)</pre><b>In a Jupyter environment, please rerun this cell to show the HTML representation or trust the notebook. <br />On GitHub, the HTML representation is unable to render, please try loading this page with nbviewer.org.</b></div><div class=\"sk-container\" hidden><div class=\"sk-item sk-dashed-wrapped\"><div class=\"sk-label-container\"><div class=\"sk-label sk-toggleable\"><input class=\"sk-toggleable__control sk-hidden--visually\" id=\"sk-estimator-id-5\" type=\"checkbox\" ><label for=\"sk-estimator-id-5\" class=\"sk-toggleable__label sk-toggleable__label-arrow\">RandomizedSearchCV</label><div class=\"sk-toggleable__content\"><pre>RandomizedSearchCV(cv=5, estimator=RandomForestRegressor(), n_iter=30,\n",
       "                   param_distributions={&#x27;max_depth&#x27;: [None, 3, 5, 10],\n",
       "                                        &#x27;max_features&#x27;: [0.5, 1.0, &#x27;sqrt&#x27;],\n",
       "                                        &#x27;max_samples&#x27;: [1500],\n",
       "                                        &#x27;min_samples_leaf&#x27;: array([ 1,  3,  5,  7,  9, 11, 13, 15, 17, 19]),\n",
       "                                        &#x27;min_samples_split&#x27;: array([ 2,  4,  6,  8, 10, 12, 14, 16, 18]),\n",
       "                                        &#x27;n_estimators&#x27;: array([10, 20, 30, 40, 50, 60, 70, 80, 90])},\n",
       "                   verbose=True)</pre></div></div></div><div class=\"sk-parallel\"><div class=\"sk-parallel-item\"><div class=\"sk-item\"><div class=\"sk-label-container\"><div class=\"sk-label sk-toggleable\"><input class=\"sk-toggleable__control sk-hidden--visually\" id=\"sk-estimator-id-6\" type=\"checkbox\" ><label for=\"sk-estimator-id-6\" class=\"sk-toggleable__label sk-toggleable__label-arrow\">estimator: RandomForestRegressor</label><div class=\"sk-toggleable__content\"><pre>RandomForestRegressor()</pre></div></div></div><div class=\"sk-serial\"><div class=\"sk-item\"><div class=\"sk-estimator sk-toggleable\"><input class=\"sk-toggleable__control sk-hidden--visually\" id=\"sk-estimator-id-7\" type=\"checkbox\" ><label for=\"sk-estimator-id-7\" class=\"sk-toggleable__label sk-toggleable__label-arrow\">RandomForestRegressor</label><div class=\"sk-toggleable__content\"><pre>RandomForestRegressor()</pre></div></div></div></div></div></div></div></div></div></div>"
      ],
      "text/plain": [
       "RandomizedSearchCV(cv=5, estimator=RandomForestRegressor(), n_iter=30,\n",
       "                   param_distributions={'max_depth': [None, 3, 5, 10],\n",
       "                                        'max_features': [0.5, 1.0, 'sqrt'],\n",
       "                                        'max_samples': [1500],\n",
       "                                        'min_samples_leaf': array([ 1,  3,  5,  7,  9, 11, 13, 15, 17, 19]),\n",
       "                                        'min_samples_split': array([ 2,  4,  6,  8, 10, 12, 14, 16, 18]),\n",
       "                                        'n_estimators': array([10, 20, 30, 40, 50, 60, 70, 80, 90])},\n",
       "                   verbose=True)"
      ]
     },
     "execution_count": 96,
     "metadata": {},
     "output_type": "execute_result"
    }
   ],
   "source": [
    "grid={'n_estimators': 40,\n",
    " 'min_samples_split': 16,\n",
    " 'min_samples_leaf': 17,\n",
    " 'max_samples': 1500,\n",
    " 'max_features': 1.0,\n",
    " 'max_depth': 5}\n",
    "\n",
    "ideal_model = RandomizedSearchCV(RandomForestRegressor(),\n",
    "                              param_distributions=rf_grid,\n",
    "                              n_iter=30,\n",
    "                              cv=5,\n",
    "                              verbose=True)\n",
    "\n",
    "ideal_model.fit(X_train,y_train)"
   ]
  },
  {
   "cell_type": "markdown",
   "id": "e2db97cd",
   "metadata": {},
   "source": [
    "* Score after Hyperparameter Tuning\n"
   ]
  },
  {
   "cell_type": "code",
   "execution_count": 97,
   "id": "8dc4a979",
   "metadata": {},
   "outputs": [
    {
     "data": {
      "text/plain": [
       "0.6028709400755004"
      ]
     },
     "execution_count": 97,
     "metadata": {},
     "output_type": "execute_result"
    }
   ],
   "source": [
    "ideal_model.score(X_test,y_test)"
   ]
  },
  {
   "cell_type": "markdown",
   "id": "dd2b427e",
   "metadata": {},
   "source": [
    "* SCore before Hyperparameter Tuning"
   ]
  },
  {
   "cell_type": "code",
   "execution_count": 98,
   "id": "49b4e038",
   "metadata": {},
   "outputs": [
    {
     "data": {
      "text/plain": [
       "0.5551255511867476"
      ]
     },
     "execution_count": 98,
     "metadata": {},
     "output_type": "execute_result"
    }
   ],
   "source": [
    "random_model.score(X_test,y_test)"
   ]
  },
  {
   "cell_type": "code",
   "execution_count": 99,
   "id": "0c83d8b7",
   "metadata": {},
   "outputs": [],
   "source": [
    "y_preds=ideal_model.predict(X_test)"
   ]
  },
  {
   "cell_type": "code",
   "execution_count": 100,
   "id": "fa859735",
   "metadata": {},
   "outputs": [
    {
     "name": "stdout",
     "output_type": "stream",
     "text": [
      "Mean_Absolute_Error : 739.9409457192185\n",
      "Mean_Squarred_Error : 1112355.9263756543\n"
     ]
    }
   ],
   "source": [
    "print(\"Mean_Absolute_Error :\",mean_absolute_error(y_test,y_preds))\n",
    "print(\"Mean_Squarred_Error :\",mean_squared_error(y_test,y_preds))"
   ]
  },
  {
   "cell_type": "code",
   "execution_count": 101,
   "id": "b52e952c",
   "metadata": {},
   "outputs": [
    {
     "name": "stdout",
     "output_type": "stream",
     "text": [
      "r2_score_train based on ideal_model model: 0.6240713193888414\n",
      "r2_score_test based on ideal_model model : 0.6028709400755004\n"
     ]
    }
   ],
   "source": [
    "ideal_model_pred_train=ideal_model.predict(X_train)\n",
    "ideal_model_pred_test=ideal_model.predict(X_test)\n",
    "\n",
    "r2_score_train=r2_score(y_train,ideal_model_pred_train)\n",
    "r2_score_test=r2_score(y_test,ideal_model_pred_test)\n",
    "\n",
    "print(\"r2_score_train based on ideal_model model:\",r2_score_train)\n",
    "print(\"r2_score_test based on ideal_model model :\",r2_score_test)"
   ]
  },
  {
   "cell_type": "code",
   "execution_count": 102,
   "id": "e1f74dcd",
   "metadata": {},
   "outputs": [
    {
     "data": {
      "text/plain": [
       "7503    1743.0644\n",
       "2957     356.8688\n",
       "7031     377.5086\n",
       "1084    5778.4782\n",
       "856     2356.9320\n",
       "Name: Item_Outlet_Sales, dtype: float64"
      ]
     },
     "execution_count": 102,
     "metadata": {},
     "output_type": "execute_result"
    }
   ],
   "source": [
    "y_test[:5]"
   ]
  },
  {
   "cell_type": "code",
   "execution_count": 103,
   "id": "416cdc65",
   "metadata": {},
   "outputs": [
    {
     "data": {
      "text/plain": [
       "array([1158.60103326,  882.5881024 ,  729.37304769, 4843.04788722,\n",
       "       3230.9352611 ])"
      ]
     },
     "execution_count": 103,
     "metadata": {},
     "output_type": "execute_result"
    }
   ],
   "source": [
    "y_preds[:5]"
   ]
  },
  {
   "cell_type": "markdown",
   "id": "2473731d",
   "metadata": {},
   "source": [
    "### Regularised Linear Regression"
   ]
  },
  {
   "cell_type": "code",
   "execution_count": 104,
   "id": "148cb75c",
   "metadata": {},
   "outputs": [],
   "source": [
    "from sklearn.linear_model import Ridge,Lasso\n",
    "from sklearn.model_selection import cross_val_score\n",
    "from statistics import mean"
   ]
  },
  {
   "cell_type": "markdown",
   "id": "4f919451",
   "metadata": {},
   "source": [
    "#### Ridge(L2) Regression:"
   ]
  },
  {
   "cell_type": "code",
   "execution_count": 105,
   "id": "c7614513",
   "metadata": {},
   "outputs": [
    {
     "name": "stdout",
     "output_type": "stream",
     "text": [
      "0.25 : 50.510432428027755\n",
      "0.5 : 50.51060685475475\n",
      "0.75 : 50.51074874569627\n",
      "1.0 : 50.510858237473165\n",
      "1.25 : 50.51093546604606\n",
      "1.5 : 50.51098056671922\n",
      "1.75 : 50.51099367414451\n",
      "2.0 : 50.510974922325204\n",
      "2.25 : 50.510924444619874\n",
      "2.5 : 50.51084237374624\n",
      "2.75 : 50.51072884178489\n",
      "3.0 : 50.51058398018308\n",
      "3.25 : 50.51040791975845\n",
      "3.5 : 50.51020079070281\n",
      "3.75 : 50.50996272258572\n",
      "4.0 : 50.509693844358225\n",
      "4.25 : 50.50939428435647\n",
      "4.5 : 50.50906417030525\n",
      "4.75 : 50.50870362932173\n"
     ]
    }
   ],
   "source": [
    "cross_val_scores_ridge = []\n",
    " \n",
    "# List to maintain the different values of alpha\n",
    "alpha = []\n",
    " \n",
    "# Loop to compute the different values of cross-validation scores\n",
    "for i in range(1, 20):\n",
    "    ridgeModel = Ridge(alpha = i * 0.25)\n",
    "    ridgeModel.fit(X_train, y_train)\n",
    "    scores = cross_val_score(ridgeModel, X, y, cv = 10)\n",
    "    avg_cross_val_score = mean(scores)*100\n",
    "    cross_val_scores_ridge.append(avg_cross_val_score)\n",
    "    alpha.append(i * 0.25)\n",
    "\n",
    "for i in range(0, len(alpha)):\n",
    "    print(str(alpha[i])+' : '+str(cross_val_scores_ridge[i]))"
   ]
  },
  {
   "cell_type": "code",
   "execution_count": 106,
   "id": "edf3edd4",
   "metadata": {},
   "outputs": [
    {
     "name": "stdout",
     "output_type": "stream",
     "text": [
      "0.5107092160597765\n",
      "r2_score_train based on ridge model: 0.505780262757083\n",
      "r2_score_test based on ridge model : 0.5107092160597765\n"
     ]
    }
   ],
   "source": [
    "ridgeModelChosen = Ridge(alpha = 1.75)\n",
    "ridgeModelChosen.fit(X_train, y_train)\n",
    " \n",
    "# Evaluating the Ridge Regression model\n",
    "print(ridgeModelChosen.score(X_test, y_test))\n",
    "\n",
    "ridge_pred_train=ridgeModelChosen.predict(X_train)\n",
    "ridge_pred_test=ridgeModelChosen.predict(X_test)\n",
    "\n",
    "r2_score_train=r2_score(y_train,ridge_pred_train)\n",
    "r2_score_test=r2_score(y_test,ridge_pred_test)\n",
    "\n",
    "print(\"r2_score_train based on ridge model:\",r2_score_train)\n",
    "print(\"r2_score_test based on ridge model :\",r2_score_test)"
   ]
  },
  {
   "cell_type": "markdown",
   "id": "8b8f510e",
   "metadata": {},
   "source": [
    "#### Lasso Regression:\n"
   ]
  },
  {
   "cell_type": "code",
   "execution_count": 107,
   "id": "be27fd15",
   "metadata": {},
   "outputs": [
    {
     "name": "stdout",
     "output_type": "stream",
     "text": [
      "0.25 : 0.5031399270611493\n",
      "0.5 : 0.5031679909449575\n",
      "0.75 : 0.5031872713368947\n",
      "1.0 : 0.5032124703989231\n",
      "1.25 : 0.5032290386314618\n",
      "1.5 : 0.5032117996090244\n",
      "1.75 : 0.5032169358783759\n",
      "2.0 : 0.5032139159503\n",
      "2.25 : 0.503205688885245\n",
      "2.5 : 0.5031863502551513\n",
      "2.75 : 0.5028619122251449\n",
      "3.0 : 0.5028750504710751\n",
      "3.25 : 0.5028135539772767\n",
      "3.5 : 0.5027426765446011\n",
      "3.75 : 0.5026651753506013\n",
      "4.0 : 0.502583122600491\n",
      "4.25 : 0.5024967221344911\n",
      "4.5 : 0.5024059789340644\n",
      "4.75 : 0.5023107524735363\n"
     ]
    }
   ],
   "source": [
    "\n",
    "# List to maintain the cross-validation scores\n",
    "cross_val_scores_lasso = []\n",
    " \n",
    "# List to maintain the different values of Lambda\n",
    "alpha = []\n",
    " \n",
    "# Loop to compute the cross-validation scores\n",
    "for i in range(1, 20):\n",
    "    lassoModel = Lasso(alpha = i * 0.25,tol=0.0925)\n",
    "    lassoModel.fit(X_train, y_train)\n",
    "    scores = cross_val_score(lassoModel, X, y, cv = 20)\n",
    "    avg_cross_val_score = mean(scores)\n",
    "    cross_val_scores_lasso.append(avg_cross_val_score)\n",
    "    alpha.append(i * 0.25)\n",
    "\n",
    "for i in range(0, len(alpha)):\n",
    "    print(str(alpha[i])+' : '+str(cross_val_scores_lasso[i]))"
   ]
  },
  {
   "cell_type": "code",
   "execution_count": 108,
   "id": "db0a4b7b",
   "metadata": {},
   "outputs": [
    {
     "name": "stdout",
     "output_type": "stream",
     "text": [
      "0.5112987685663404\n",
      "r2_score_train based on lasso model: 0.5056554183487256\n",
      "r2_score_test based on lasso model : 0.5112987685663404\n"
     ]
    }
   ],
   "source": [
    "lassoModelChosen = Lasso(alpha = 1.25, tol = 0.0925)\n",
    "lassoModelChosen.fit(X_train, y_train)\n",
    " \n",
    "# Evaluating the Lasso Regression model\n",
    "print(lassoModelChosen.score(X_test, y_test))\n",
    "\n",
    "lasso_pred_train=lassoModelChosen.predict(X_train)\n",
    "lasso_pred_test=lassoModelChosen.predict(X_test)\n",
    "\n",
    "r2_score_train=r2_score(y_train,lasso_pred_train)\n",
    "r2_score_test=r2_score(y_test,lasso_pred_test)\n",
    "\n",
    "print(\"r2_score_train based on lasso model:\",r2_score_train)\n",
    "print(\"r2_score_test based on lasso model :\",r2_score_test)"
   ]
  },
  {
   "cell_type": "code",
   "execution_count": 109,
   "id": "87f72235",
   "metadata": {},
   "outputs": [
    {
     "name": "stdout",
     "output_type": "stream",
     "text": [
      "Linear Regression : 0.5105725820354808\n",
      "Ridge Regression : 0.5107092160597765\n",
      "Lasso Regression : 0.5112987685663404\n"
     ]
    }
   ],
   "source": [
    "# Building the two lists for visualization\n",
    "models = ['Linear Regression', 'Ridge Regression', 'Lasso Regression']\n",
    "scores = [linear_model.score(X_test, y_test),\n",
    "         ridgeModelChosen.score(X_test, y_test),\n",
    "         lassoModelChosen.score(X_test, y_test)]\n",
    " \n",
    "# Building the dictionary to compare the scores\n",
    "mapping = {}\n",
    "mapping['Linear Regression'] = linear_model.score(X_test, y_test)\n",
    "mapping['Ridge Regression'] = ridgeModelChosen.score(X_test, y_test)\n",
    "mapping['Lasso Regression'] = lassoModelChosen.score(X_test, y_test)\n",
    " \n",
    "# Printing the scores for different models\n",
    "for key, val in mapping.items():\n",
    "    print(str(key)+' : '+str(val))"
   ]
  },
  {
   "cell_type": "code",
   "execution_count": 110,
   "id": "934dbf48",
   "metadata": {},
   "outputs": [
    {
     "data": {
      "image/png": "[encoded data removed]",
      "text/plain": [
       "<Figure size 640x480 with 1 Axes>"
      ]
     },
     "metadata": {},
     "output_type": "display_data"
    }
   ],
   "source": [
    "# Plotting the scores\n",
    "plt.bar(models, scores)\n",
    "plt.xlabel('Regression Models')\n",
    "plt.ylabel('Score')\n",
    "plt.show()"
   ]
  },
  {
   "cell_type": "markdown",
   "id": "d20fd4f6",
   "metadata": {},
   "source": [
    "### XG_Boost Model Prediction"
   ]
  },
  {
   "cell_type": "code",
   "execution_count": 111,
   "id": "82a4b4e1",
   "metadata": {},
   "outputs": [],
   "source": [
    "# pip install xgboost\n",
    "import xgboost\n",
    "\n",
    "from xgboost import XGBRegressor"
   ]
  },
  {
   "cell_type": "code",
   "execution_count": 112,
   "id": "ae36b179",
   "metadata": {},
   "outputs": [
    {
     "data": {
      "text/html": [
       "<style>#sk-container-id-4 {color: black;}#sk-container-id-4 pre{padding: 0;}#sk-container-id-4 div.sk-toggleable {background-color: white;}#sk-container-id-4 label.sk-toggleable__label {cursor: pointer;display: block;width: 100%;margin-bottom: 0;padding: 0.3em;box-sizing: border-box;text-align: center;}#sk-container-id-4 label.sk-toggleable__label-arrow:before {content: \"▸\";float: left;margin-right: 0.25em;color: #696969;}#sk-container-id-4 label.sk-toggleable__label-arrow:hover:before {color: black;}#sk-container-id-4 div.sk-estimator:hover label.sk-toggleable__label-arrow:before {color: black;}#sk-container-id-4 div.sk-toggleable__content {max-height: 0;max-width: 0;overflow: hidden;text-align: left;background-color: #f0f8ff;}#sk-container-id-4 div.sk-toggleable__content pre {margin: 0.2em;color: black;border-radius: 0.25em;background-color: #f0f8ff;}#sk-container-id-4 input.sk-toggleable__control:checked~div.sk-toggleable__content {max-height: 200px;max-width: 100%;overflow: auto;}#sk-container-id-4 input.sk-toggleable__control:checked~label.sk-toggleable__label-arrow:before {content: \"▾\";}#sk-container-id-4 div.sk-estimator input.sk-toggleable__control:checked~label.sk-toggleable__label {background-color: #d4ebff;}#sk-container-id-4 div.sk-label input.sk-toggleable__control:checked~label.sk-toggleable__label {background-color: #d4ebff;}#sk-container-id-4 input.sk-hidden--visually {border: 0;clip: rect(1px 1px 1px 1px);clip: rect(1px, 1px, 1px, 1px);height: 1px;margin: -1px;overflow: hidden;padding: 0;position: absolute;width: 1px;}#sk-container-id-4 div.sk-estimator {font-family: monospace;background-color: #f0f8ff;border: 1px dotted black;border-radius: 0.25em;box-sizing: border-box;margin-bottom: 0.5em;}#sk-container-id-4 div.sk-estimator:hover {background-color: #d4ebff;}#sk-container-id-4 div.sk-parallel-item::after {content: \"\";width: 100%;border-bottom: 1px solid gray;flex-grow: 1;}#sk-container-id-4 div.sk-label:hover label.sk-toggleable__label {background-color: #d4ebff;}#sk-container-id-4 div.sk-serial::before {content: \"\";position: absolute;border-left: 1px solid gray;box-sizing: border-box;top: 0;bottom: 0;left: 50%;z-index: 0;}#sk-container-id-4 div.sk-serial {display: flex;flex-direction: column;align-items: center;background-color: white;padding-right: 0.2em;padding-left: 0.2em;position: relative;}#sk-container-id-4 div.sk-item {position: relative;z-index: 1;}#sk-container-id-4 div.sk-parallel {display: flex;align-items: stretch;justify-content: center;background-color: white;position: relative;}#sk-container-id-4 div.sk-item::before, #sk-container-id-4 div.sk-parallel-item::before {content: \"\";position: absolute;border-left: 1px solid gray;box-sizing: border-box;top: 0;bottom: 0;left: 50%;z-index: -1;}#sk-container-id-4 div.sk-parallel-item {display: flex;flex-direction: column;z-index: 1;position: relative;background-color: white;}#sk-container-id-4 div.sk-parallel-item:first-child::after {align-self: flex-end;width: 50%;}#sk-container-id-4 div.sk-parallel-item:last-child::after {align-self: flex-start;width: 50%;}#sk-container-id-4 div.sk-parallel-item:only-child::after {width: 0;}#sk-container-id-4 div.sk-dashed-wrapped {border: 1px dashed gray;margin: 0 0.4em 0.5em 0.4em;box-sizing: border-box;padding-bottom: 0.4em;background-color: white;}#sk-container-id-4 div.sk-label label {font-family: monospace;font-weight: bold;display: inline-block;line-height: 1.2em;}#sk-container-id-4 div.sk-label-container {text-align: center;}#sk-container-id-4 div.sk-container {/* jupyter's `normalize.less` sets `[hidden] { display: none; }` but bootstrap.min.css set `[hidden] { display: none !important; }` so we also need the `!important` here to be able to override the default hidden behavior on the sphinx rendered scikit-learn.org. See: https://github.com/scikit-learn/scikit-learn/issues/21755 */display: inline-block !important;position: relative;}#sk-container-id-4 div.sk-text-repr-fallback {display: none;}</style><div id=\"sk-container-id-4\" class=\"sk-top-container\"><div class=\"sk-text-repr-fallback\"><pre>XGBRegressor(base_score=None, booster=None, callbacks=None,\n",
       "             colsample_bylevel=None, colsample_bynode=None,\n",
       "             colsample_bytree=None, device=None, early_stopping_rounds=None,\n",
       "             enable_categorical=False, eval_metric=None, feature_types=None,\n",
       "             gamma=None, grow_policy=None, importance_type=None,\n",
       "             interaction_constraints=None, learning_rate=None, max_bin=None,\n",
       "             max_cat_threshold=None, max_cat_to_onehot=None,\n",
       "             max_delta_step=None, max_depth=None, max_leaves=None,\n",
       "             min_child_weight=None, missing=nan, monotone_constraints=None,\n",
       "             multi_strategy=None, n_estimators=None, n_jobs=None,\n",
       "             num_parallel_tree=None, random_state=None, ...)</pre><b>In a Jupyter environment, please rerun this cell to show the HTML representation or trust the notebook. <br />On GitHub, the HTML representation is unable to render, please try loading this page with nbviewer.org.</b></div><div class=\"sk-container\" hidden><div class=\"sk-item\"><div class=\"sk-estimator sk-toggleable\"><input class=\"sk-toggleable__control sk-hidden--visually\" id=\"sk-estimator-id-8\" type=\"checkbox\" checked><label for=\"sk-estimator-id-8\" class=\"sk-toggleable__label sk-toggleable__label-arrow\">XGBRegressor</label><div class=\"sk-toggleable__content\"><pre>XGBRegressor(base_score=None, booster=None, callbacks=None,\n",
       "             colsample_bylevel=None, colsample_bynode=None,\n",
       "             colsample_bytree=None, device=None, early_stopping_rounds=None,\n",
       "             enable_categorical=False, eval_metric=None, feature_types=None,\n",
       "             gamma=None, grow_policy=None, importance_type=None,\n",
       "             interaction_constraints=None, learning_rate=None, max_bin=None,\n",
       "             max_cat_threshold=None, max_cat_to_onehot=None,\n",
       "             max_delta_step=None, max_depth=None, max_leaves=None,\n",
       "             min_child_weight=None, missing=nan, monotone_constraints=None,\n",
       "             multi_strategy=None, n_estimators=None, n_jobs=None,\n",
       "             num_parallel_tree=None, random_state=None, ...)</pre></div></div></div></div></div>"
      ],
      "text/plain": [
       "XGBRegressor(base_score=None, booster=None, callbacks=None,\n",
       "             colsample_bylevel=None, colsample_bynode=None,\n",
       "             colsample_bytree=None, device=None, early_stopping_rounds=None,\n",
       "             enable_categorical=False, eval_metric=None, feature_types=None,\n",
       "             gamma=None, grow_policy=None, importance_type=None,\n",
       "             interaction_constraints=None, learning_rate=None, max_bin=None,\n",
       "             max_cat_threshold=None, max_cat_to_onehot=None,\n",
       "             max_delta_step=None, max_depth=None, max_leaves=None,\n",
       "             min_child_weight=None, missing=nan, monotone_constraints=None,\n",
       "             multi_strategy=None, n_estimators=None, n_jobs=None,\n",
       "             num_parallel_tree=None, random_state=None, ...)"
      ]
     },
     "execution_count": 112,
     "metadata": {},
     "output_type": "execute_result"
    }
   ],
   "source": [
    "xgb_model=XGBRegressor()\n",
    "\n",
    "xgb_model.fit(X_train,y_train)"
   ]
  },
  {
   "cell_type": "code",
   "execution_count": 113,
   "id": "dcba0f4c",
   "metadata": {},
   "outputs": [],
   "source": [
    "y_train_pred=xgb_model.predict(X_train)\n",
    "y_test_pred=xgb_model.predict(X_test)"
   ]
  },
  {
   "cell_type": "code",
   "execution_count": 114,
   "id": "b4cd76a7",
   "metadata": {},
   "outputs": [
    {
     "name": "stdout",
     "output_type": "stream",
     "text": [
      "y_test_pred: [ 766.10406 1171.7843   972.4742  ...  365.18613 2119.0789  5303.108  ]\n",
      "y_train_pred: [ 285.80954 1588.0072  3426.6694  ... 4584.978   1401.4363  1297.1976 ]\n"
     ]
    }
   ],
   "source": [
    "print(\"y_test_pred:\",y_test_pred)\n",
    "print(\"y_train_pred:\",y_train_pred)"
   ]
  },
  {
   "cell_type": "code",
   "execution_count": 115,
   "id": "b867c190",
   "metadata": {},
   "outputs": [
    {
     "name": "stdout",
     "output_type": "stream",
     "text": [
      "Training R-Squared  : 0.8807823100636998\n",
      "Testing R-Squared  : 0.5136482097483572\n"
     ]
    }
   ],
   "source": [
    "from sklearn.metrics import r2_score\n",
    "train_r2=r2_score(y_train,y_train_pred)\n",
    "test_r2=r2_score(y_test,y_test_pred)\n",
    "\n",
    "\n",
    "print(\"Training R-Squared  :\" , train_r2)\n",
    "print(\"Testing R-Squared  :\" , test_r2)"
   ]
  },
  {
   "cell_type": "markdown",
   "id": "aeb5ace6",
   "metadata": {},
   "source": [
    "#### Hyperparameter tuning of XG Boost using GridSearch CV"
   ]
  },
  {
   "cell_type": "code",
   "execution_count": 116,
   "id": "b7fea61c",
   "metadata": {},
   "outputs": [],
   "source": [
    "from sklearn.model_selection import GridSearchCV"
   ]
  },
  {
   "cell_type": "code",
   "execution_count": 117,
   "id": "0dc9b7ed",
   "metadata": {},
   "outputs": [],
   "source": [
    "import warnings\n",
    "warnings.filterwarnings('ignore')"
   ]
  },
  {
   "cell_type": "code",
   "execution_count": 118,
   "id": "f200d63b",
   "metadata": {},
   "outputs": [
    {
     "name": "stdout",
     "output_type": "stream",
     "text": [
      "Fitting 5 folds for each of 532 candidates, totalling 2660 fits\n"
     ]
    },
    {
     "data": {
      "text/html": [
       "<style>#sk-container-id-5 {color: black;}#sk-container-id-5 pre{padding: 0;}#sk-container-id-5 div.sk-toggleable {background-color: white;}#sk-container-id-5 label.sk-toggleable__label {cursor: pointer;display: block;width: 100%;margin-bottom: 0;padding: 0.3em;box-sizing: border-box;text-align: center;}#sk-container-id-5 label.sk-toggleable__label-arrow:before {content: \"▸\";float: left;margin-right: 0.25em;color: #696969;}#sk-container-id-5 label.sk-toggleable__label-arrow:hover:before {color: black;}#sk-container-id-5 div.sk-estimator:hover label.sk-toggleable__label-arrow:before {color: black;}#sk-container-id-5 div.sk-toggleable__content {max-height: 0;max-width: 0;overflow: hidden;text-align: left;background-color: #f0f8ff;}#sk-container-id-5 div.sk-toggleable__content pre {margin: 0.2em;color: black;border-radius: 0.25em;background-color: #f0f8ff;}#sk-container-id-5 input.sk-toggleable__control:checked~div.sk-toggleable__content {max-height: 200px;max-width: 100%;overflow: auto;}#sk-container-id-5 input.sk-toggleable__control:checked~label.sk-toggleable__label-arrow:before {content: \"▾\";}#sk-container-id-5 div.sk-estimator input.sk-toggleable__control:checked~label.sk-toggleable__label {background-color: #d4ebff;}#sk-container-id-5 div.sk-label input.sk-toggleable__control:checked~label.sk-toggleable__label {background-color: #d4ebff;}#sk-container-id-5 input.sk-hidden--visually {border: 0;clip: rect(1px 1px 1px 1px);clip: rect(1px, 1px, 1px, 1px);height: 1px;margin: -1px;overflow: hidden;padding: 0;position: absolute;width: 1px;}#sk-container-id-5 div.sk-estimator {font-family: monospace;background-color: #f0f8ff;border: 1px dotted black;border-radius: 0.25em;box-sizing: border-box;margin-bottom: 0.5em;}#sk-container-id-5 div.sk-estimator:hover {background-color: #d4ebff;}#sk-container-id-5 div.sk-parallel-item::after {content: \"\";width: 100%;border-bottom: 1px solid gray;flex-grow: 1;}#sk-container-id-5 div.sk-label:hover label.sk-toggleable__label {background-color: #d4ebff;}#sk-container-id-5 div.sk-serial::before {content: \"\";position: absolute;border-left: 1px solid gray;box-sizing: border-box;top: 0;bottom: 0;left: 50%;z-index: 0;}#sk-container-id-5 div.sk-serial {display: flex;flex-direction: column;align-items: center;background-color: white;padding-right: 0.2em;padding-left: 0.2em;position: relative;}#sk-container-id-5 div.sk-item {position: relative;z-index: 1;}#sk-container-id-5 div.sk-parallel {display: flex;align-items: stretch;justify-content: center;background-color: white;position: relative;}#sk-container-id-5 div.sk-item::before, #sk-container-id-5 div.sk-parallel-item::before {content: \"\";position: absolute;border-left: 1px solid gray;box-sizing: border-box;top: 0;bottom: 0;left: 50%;z-index: -1;}#sk-container-id-5 div.sk-parallel-item {display: flex;flex-direction: column;z-index: 1;position: relative;background-color: white;}#sk-container-id-5 div.sk-parallel-item:first-child::after {align-self: flex-end;width: 50%;}#sk-container-id-5 div.sk-parallel-item:last-child::after {align-self: flex-start;width: 50%;}#sk-container-id-5 div.sk-parallel-item:only-child::after {width: 0;}#sk-container-id-5 div.sk-dashed-wrapped {border: 1px dashed gray;margin: 0 0.4em 0.5em 0.4em;box-sizing: border-box;padding-bottom: 0.4em;background-color: white;}#sk-container-id-5 div.sk-label label {font-family: monospace;font-weight: bold;display: inline-block;line-height: 1.2em;}#sk-container-id-5 div.sk-label-container {text-align: center;}#sk-container-id-5 div.sk-container {/* jupyter's `normalize.less` sets `[hidden] { display: none; }` but bootstrap.min.css set `[hidden] { display: none !important; }` so we also need the `!important` here to be able to override the default hidden behavior on the sphinx rendered scikit-learn.org. See: https://github.com/scikit-learn/scikit-learn/issues/21755 */display: inline-block !important;position: relative;}#sk-container-id-5 div.sk-text-repr-fallback {display: none;}</style><div id=\"sk-container-id-5\" class=\"sk-top-container\"><div class=\"sk-text-repr-fallback\"><pre>GridSearchCV(cv=5,\n",
       "             estimator=XGBRegressor(base_score=None, booster=None,\n",
       "                                    callbacks=None, colsample_bylevel=None,\n",
       "                                    colsample_bynode=None,\n",
       "                                    colsample_bytree=None, device=None,\n",
       "                                    early_stopping_rounds=None,\n",
       "                                    enable_categorical=False, eval_metric=None,\n",
       "                                    feature_types=None, gamma=None,\n",
       "                                    grow_policy=None, importance_type=None,\n",
       "                                    interaction_constraints=None,\n",
       "                                    learning_rate=None, m...\n",
       "                                    min_child_weight=None, missing=nan,\n",
       "                                    monotone_constraints=None,\n",
       "                                    multi_strategy=None, n_estimators=None,\n",
       "                                    n_jobs=None, num_parallel_tree=None,\n",
       "                                    random_state=None, ...),\n",
       "             n_jobs=20,\n",
       "             param_grid={&#x27;alpha&#x27;: [0.001, 0.1, 1, 10, 100, 1000, 10000],\n",
       "                         &#x27;max_depth&#x27;: array([2, 4, 6, 8]),\n",
       "                         &#x27;min_samples_split&#x27;: array([ 2,  4,  6,  8, 10, 12, 14, 16, 18, 20, 22, 24, 26, 28, 30, 32, 34,\n",
       "       36, 38])},\n",
       "             scoring=&#x27;accuracy&#x27;, verbose=True)</pre><b>In a Jupyter environment, please rerun this cell to show the HTML representation or trust the notebook. <br />On GitHub, the HTML representation is unable to render, please try loading this page with nbviewer.org.</b></div><div class=\"sk-container\" hidden><div class=\"sk-item sk-dashed-wrapped\"><div class=\"sk-label-container\"><div class=\"sk-label sk-toggleable\"><input class=\"sk-toggleable__control sk-hidden--visually\" id=\"sk-estimator-id-9\" type=\"checkbox\" ><label for=\"sk-estimator-id-9\" class=\"sk-toggleable__label sk-toggleable__label-arrow\">GridSearchCV</label><div class=\"sk-toggleable__content\"><pre>GridSearchCV(cv=5,\n",
       "             estimator=XGBRegressor(base_score=None, booster=None,\n",
       "                                    callbacks=None, colsample_bylevel=None,\n",
       "                                    colsample_bynode=None,\n",
       "                                    colsample_bytree=None, device=None,\n",
       "                                    early_stopping_rounds=None,\n",
       "                                    enable_categorical=False, eval_metric=None,\n",
       "                                    feature_types=None, gamma=None,\n",
       "                                    grow_policy=None, importance_type=None,\n",
       "                                    interaction_constraints=None,\n",
       "                                    learning_rate=None, m...\n",
       "                                    min_child_weight=None, missing=nan,\n",
       "                                    monotone_constraints=None,\n",
       "                                    multi_strategy=None, n_estimators=None,\n",
       "                                    n_jobs=None, num_parallel_tree=None,\n",
       "                                    random_state=None, ...),\n",
       "             n_jobs=20,\n",
       "             param_grid={&#x27;alpha&#x27;: [0.001, 0.1, 1, 10, 100, 1000, 10000],\n",
       "                         &#x27;max_depth&#x27;: array([2, 4, 6, 8]),\n",
       "                         &#x27;min_samples_split&#x27;: array([ 2,  4,  6,  8, 10, 12, 14, 16, 18, 20, 22, 24, 26, 28, 30, 32, 34,\n",
       "       36, 38])},\n",
       "             scoring=&#x27;accuracy&#x27;, verbose=True)</pre></div></div></div><div class=\"sk-parallel\"><div class=\"sk-parallel-item\"><div class=\"sk-item\"><div class=\"sk-label-container\"><div class=\"sk-label sk-toggleable\"><input class=\"sk-toggleable__control sk-hidden--visually\" id=\"sk-estimator-id-10\" type=\"checkbox\" ><label for=\"sk-estimator-id-10\" class=\"sk-toggleable__label sk-toggleable__label-arrow\">estimator: XGBRegressor</label><div class=\"sk-toggleable__content\"><pre>XGBRegressor(base_score=None, booster=None, callbacks=None,\n",
       "             colsample_bylevel=None, colsample_bynode=None,\n",
       "             colsample_bytree=None, device=None, early_stopping_rounds=None,\n",
       "             enable_categorical=False, eval_metric=None, feature_types=None,\n",
       "             gamma=None, grow_policy=None, importance_type=None,\n",
       "             interaction_constraints=None, learning_rate=None, max_bin=None,\n",
       "             max_cat_threshold=None, max_cat_to_onehot=None,\n",
       "             max_delta_step=None, max_depth=None, max_leaves=None,\n",
       "             min_child_weight=None, missing=nan, monotone_constraints=None,\n",
       "             multi_strategy=None, n_estimators=None, n_jobs=None,\n",
       "             num_parallel_tree=None, random_state=None, ...)</pre></div></div></div><div class=\"sk-serial\"><div class=\"sk-item\"><div class=\"sk-estimator sk-toggleable\"><input class=\"sk-toggleable__control sk-hidden--visually\" id=\"sk-estimator-id-11\" type=\"checkbox\" ><label for=\"sk-estimator-id-11\" class=\"sk-toggleable__label sk-toggleable__label-arrow\">XGBRegressor</label><div class=\"sk-toggleable__content\"><pre>XGBRegressor(base_score=None, booster=None, callbacks=None,\n",
       "             colsample_bylevel=None, colsample_bynode=None,\n",
       "             colsample_bytree=None, device=None, early_stopping_rounds=None,\n",
       "             enable_categorical=False, eval_metric=None, feature_types=None,\n",
       "             gamma=None, grow_policy=None, importance_type=None,\n",
       "             interaction_constraints=None, learning_rate=None, max_bin=None,\n",
       "             max_cat_threshold=None, max_cat_to_onehot=None,\n",
       "             max_delta_step=None, max_depth=None, max_leaves=None,\n",
       "             min_child_weight=None, missing=nan, monotone_constraints=None,\n",
       "             multi_strategy=None, n_estimators=None, n_jobs=None,\n",
       "             num_parallel_tree=None, random_state=None, ...)</pre></div></div></div></div></div></div></div></div></div></div>"
      ],
      "text/plain": [
       "GridSearchCV(cv=5,\n",
       "             estimator=XGBRegressor(base_score=None, booster=None,\n",
       "                                    callbacks=None, colsample_bylevel=None,\n",
       "                                    colsample_bynode=None,\n",
       "                                    colsample_bytree=None, device=None,\n",
       "                                    early_stopping_rounds=None,\n",
       "                                    enable_categorical=False, eval_metric=None,\n",
       "                                    feature_types=None, gamma=None,\n",
       "                                    grow_policy=None, importance_type=None,\n",
       "                                    interaction_constraints=None,\n",
       "                                    learning_rate=None, m...\n",
       "                                    min_child_weight=None, missing=nan,\n",
       "                                    monotone_constraints=None,\n",
       "                                    multi_strategy=None, n_estimators=None,\n",
       "                                    n_jobs=None, num_parallel_tree=None,\n",
       "                                    random_state=None, ...),\n",
       "             n_jobs=20,\n",
       "             param_grid={'alpha': [0.001, 0.1, 1, 10, 100, 1000, 10000],\n",
       "                         'max_depth': array([2, 4, 6, 8]),\n",
       "                         'min_samples_split': array([ 2,  4,  6,  8, 10, 12, 14, 16, 18, 20, 22, 24, 26, 28, 30, 32, 34,\n",
       "       36, 38])},\n",
       "             scoring='accuracy', verbose=True)"
      ]
     },
     "execution_count": 118,
     "metadata": {},
     "output_type": "execute_result"
    }
   ],
   "source": [
    "parameters = {'min_samples_split':np.arange(2, 40,2),\n",
    "              'max_depth': np.arange(2,10,2), \n",
    "              'alpha': [0.001,0.1,1, 10, 100, 1000, 10000],\n",
    "#               'criterion':['gini', 'entropy']\n",
    "             }\n",
    "\n",
    "gs_model=GridSearchCV(XGBRegressor(),\n",
    "                      param_grid=parameters,\n",
    "                      scoring='accuracy',\n",
    "                      cv=5,\n",
    "                      n_jobs=20,\n",
    "                      verbose=True)\n",
    "\n",
    "gs_model.fit(X_train,y_train)"
   ]
  },
  {
   "cell_type": "code",
   "execution_count": 119,
   "id": "c4fc07f3",
   "metadata": {},
   "outputs": [
    {
     "name": "stdout",
     "output_type": "stream",
     "text": [
      "{'alpha': 0.001, 'max_depth': 2, 'min_samples_split': 2}\n"
     ]
    }
   ],
   "source": [
    "print(gs_model.best_params_)"
   ]
  },
  {
   "cell_type": "code",
   "execution_count": 120,
   "id": "3eadd7d9",
   "metadata": {},
   "outputs": [
    {
     "name": "stdout",
     "output_type": "stream",
     "text": [
      "Fitting 5 folds for each of 1 candidates, totalling 5 fits\n"
     ]
    },
    {
     "data": {
      "text/html": [
       "<style>#sk-container-id-6 {color: black;}#sk-container-id-6 pre{padding: 0;}#sk-container-id-6 div.sk-toggleable {background-color: white;}#sk-container-id-6 label.sk-toggleable__label {cursor: pointer;display: block;width: 100%;margin-bottom: 0;padding: 0.3em;box-sizing: border-box;text-align: center;}#sk-container-id-6 label.sk-toggleable__label-arrow:before {content: \"▸\";float: left;margin-right: 0.25em;color: #696969;}#sk-container-id-6 label.sk-toggleable__label-arrow:hover:before {color: black;}#sk-container-id-6 div.sk-estimator:hover label.sk-toggleable__label-arrow:before {color: black;}#sk-container-id-6 div.sk-toggleable__content {max-height: 0;max-width: 0;overflow: hidden;text-align: left;background-color: #f0f8ff;}#sk-container-id-6 div.sk-toggleable__content pre {margin: 0.2em;color: black;border-radius: 0.25em;background-color: #f0f8ff;}#sk-container-id-6 input.sk-toggleable__control:checked~div.sk-toggleable__content {max-height: 200px;max-width: 100%;overflow: auto;}#sk-container-id-6 input.sk-toggleable__control:checked~label.sk-toggleable__label-arrow:before {content: \"▾\";}#sk-container-id-6 div.sk-estimator input.sk-toggleable__control:checked~label.sk-toggleable__label {background-color: #d4ebff;}#sk-container-id-6 div.sk-label input.sk-toggleable__control:checked~label.sk-toggleable__label {background-color: #d4ebff;}#sk-container-id-6 input.sk-hidden--visually {border: 0;clip: rect(1px 1px 1px 1px);clip: rect(1px, 1px, 1px, 1px);height: 1px;margin: -1px;overflow: hidden;padding: 0;position: absolute;width: 1px;}#sk-container-id-6 div.sk-estimator {font-family: monospace;background-color: #f0f8ff;border: 1px dotted black;border-radius: 0.25em;box-sizing: border-box;margin-bottom: 0.5em;}#sk-container-id-6 div.sk-estimator:hover {background-color: #d4ebff;}#sk-container-id-6 div.sk-parallel-item::after {content: \"\";width: 100%;border-bottom: 1px solid gray;flex-grow: 1;}#sk-container-id-6 div.sk-label:hover label.sk-toggleable__label {background-color: #d4ebff;}#sk-container-id-6 div.sk-serial::before {content: \"\";position: absolute;border-left: 1px solid gray;box-sizing: border-box;top: 0;bottom: 0;left: 50%;z-index: 0;}#sk-container-id-6 div.sk-serial {display: flex;flex-direction: column;align-items: center;background-color: white;padding-right: 0.2em;padding-left: 0.2em;position: relative;}#sk-container-id-6 div.sk-item {position: relative;z-index: 1;}#sk-container-id-6 div.sk-parallel {display: flex;align-items: stretch;justify-content: center;background-color: white;position: relative;}#sk-container-id-6 div.sk-item::before, #sk-container-id-6 div.sk-parallel-item::before {content: \"\";position: absolute;border-left: 1px solid gray;box-sizing: border-box;top: 0;bottom: 0;left: 50%;z-index: -1;}#sk-container-id-6 div.sk-parallel-item {display: flex;flex-direction: column;z-index: 1;position: relative;background-color: white;}#sk-container-id-6 div.sk-parallel-item:first-child::after {align-self: flex-end;width: 50%;}#sk-container-id-6 div.sk-parallel-item:last-child::after {align-self: flex-start;width: 50%;}#sk-container-id-6 div.sk-parallel-item:only-child::after {width: 0;}#sk-container-id-6 div.sk-dashed-wrapped {border: 1px dashed gray;margin: 0 0.4em 0.5em 0.4em;box-sizing: border-box;padding-bottom: 0.4em;background-color: white;}#sk-container-id-6 div.sk-label label {font-family: monospace;font-weight: bold;display: inline-block;line-height: 1.2em;}#sk-container-id-6 div.sk-label-container {text-align: center;}#sk-container-id-6 div.sk-container {/* jupyter's `normalize.less` sets `[hidden] { display: none; }` but bootstrap.min.css set `[hidden] { display: none !important; }` so we also need the `!important` here to be able to override the default hidden behavior on the sphinx rendered scikit-learn.org. See: https://github.com/scikit-learn/scikit-learn/issues/21755 */display: inline-block !important;position: relative;}#sk-container-id-6 div.sk-text-repr-fallback {display: none;}</style><div id=\"sk-container-id-6\" class=\"sk-top-container\"><div class=\"sk-text-repr-fallback\"><pre>GridSearchCV(cv=5,\n",
       "             estimator=XGBRegressor(base_score=None, booster=None,\n",
       "                                    callbacks=None, colsample_bylevel=None,\n",
       "                                    colsample_bynode=None,\n",
       "                                    colsample_bytree=None, device=None,\n",
       "                                    early_stopping_rounds=None,\n",
       "                                    enable_categorical=False, eval_metric=None,\n",
       "                                    feature_types=None, gamma=None,\n",
       "                                    grow_policy=None, importance_type=None,\n",
       "                                    interaction_constraints=None,\n",
       "                                    learning_rate=None, max_bin=None,\n",
       "                                    max_cat_threshold=None,\n",
       "                                    max_cat_to_onehot=None, max_delta_step=None,\n",
       "                                    max_depth=None, max_leaves=None,\n",
       "                                    min_child_weight=None, missing=nan,\n",
       "                                    monotone_constraints=None,\n",
       "                                    multi_strategy=None, n_estimators=None,\n",
       "                                    n_jobs=None, num_parallel_tree=None,\n",
       "                                    random_state=None, ...),\n",
       "             param_grid={&#x27;alpha&#x27;: [0.001], &#x27;max_depth&#x27;: [2],\n",
       "                         &#x27;min_samples_split&#x27;: [2]},\n",
       "             verbose=True)</pre><b>In a Jupyter environment, please rerun this cell to show the HTML representation or trust the notebook. <br />On GitHub, the HTML representation is unable to render, please try loading this page with nbviewer.org.</b></div><div class=\"sk-container\" hidden><div class=\"sk-item sk-dashed-wrapped\"><div class=\"sk-label-container\"><div class=\"sk-label sk-toggleable\"><input class=\"sk-toggleable__control sk-hidden--visually\" id=\"sk-estimator-id-12\" type=\"checkbox\" ><label for=\"sk-estimator-id-12\" class=\"sk-toggleable__label sk-toggleable__label-arrow\">GridSearchCV</label><div class=\"sk-toggleable__content\"><pre>GridSearchCV(cv=5,\n",
       "             estimator=XGBRegressor(base_score=None, booster=None,\n",
       "                                    callbacks=None, colsample_bylevel=None,\n",
       "                                    colsample_bynode=None,\n",
       "                                    colsample_bytree=None, device=None,\n",
       "                                    early_stopping_rounds=None,\n",
       "                                    enable_categorical=False, eval_metric=None,\n",
       "                                    feature_types=None, gamma=None,\n",
       "                                    grow_policy=None, importance_type=None,\n",
       "                                    interaction_constraints=None,\n",
       "                                    learning_rate=None, max_bin=None,\n",
       "                                    max_cat_threshold=None,\n",
       "                                    max_cat_to_onehot=None, max_delta_step=None,\n",
       "                                    max_depth=None, max_leaves=None,\n",
       "                                    min_child_weight=None, missing=nan,\n",
       "                                    monotone_constraints=None,\n",
       "                                    multi_strategy=None, n_estimators=None,\n",
       "                                    n_jobs=None, num_parallel_tree=None,\n",
       "                                    random_state=None, ...),\n",
       "             param_grid={&#x27;alpha&#x27;: [0.001], &#x27;max_depth&#x27;: [2],\n",
       "                         &#x27;min_samples_split&#x27;: [2]},\n",
       "             verbose=True)</pre></div></div></div><div class=\"sk-parallel\"><div class=\"sk-parallel-item\"><div class=\"sk-item\"><div class=\"sk-label-container\"><div class=\"sk-label sk-toggleable\"><input class=\"sk-toggleable__control sk-hidden--visually\" id=\"sk-estimator-id-13\" type=\"checkbox\" ><label for=\"sk-estimator-id-13\" class=\"sk-toggleable__label sk-toggleable__label-arrow\">estimator: XGBRegressor</label><div class=\"sk-toggleable__content\"><pre>XGBRegressor(base_score=None, booster=None, callbacks=None,\n",
       "             colsample_bylevel=None, colsample_bynode=None,\n",
       "             colsample_bytree=None, device=None, early_stopping_rounds=None,\n",
       "             enable_categorical=False, eval_metric=None, feature_types=None,\n",
       "             gamma=None, grow_policy=None, importance_type=None,\n",
       "             interaction_constraints=None, learning_rate=None, max_bin=None,\n",
       "             max_cat_threshold=None, max_cat_to_onehot=None,\n",
       "             max_delta_step=None, max_depth=None, max_leaves=None,\n",
       "             min_child_weight=None, missing=nan, monotone_constraints=None,\n",
       "             multi_strategy=None, n_estimators=None, n_jobs=None,\n",
       "             num_parallel_tree=None, random_state=None, ...)</pre></div></div></div><div class=\"sk-serial\"><div class=\"sk-item\"><div class=\"sk-estimator sk-toggleable\"><input class=\"sk-toggleable__control sk-hidden--visually\" id=\"sk-estimator-id-14\" type=\"checkbox\" ><label for=\"sk-estimator-id-14\" class=\"sk-toggleable__label sk-toggleable__label-arrow\">XGBRegressor</label><div class=\"sk-toggleable__content\"><pre>XGBRegressor(base_score=None, booster=None, callbacks=None,\n",
       "             colsample_bylevel=None, colsample_bynode=None,\n",
       "             colsample_bytree=None, device=None, early_stopping_rounds=None,\n",
       "             enable_categorical=False, eval_metric=None, feature_types=None,\n",
       "             gamma=None, grow_policy=None, importance_type=None,\n",
       "             interaction_constraints=None, learning_rate=None, max_bin=None,\n",
       "             max_cat_threshold=None, max_cat_to_onehot=None,\n",
       "             max_delta_step=None, max_depth=None, max_leaves=None,\n",
       "             min_child_weight=None, missing=nan, monotone_constraints=None,\n",
       "             multi_strategy=None, n_estimators=None, n_jobs=None,\n",
       "             num_parallel_tree=None, random_state=None, ...)</pre></div></div></div></div></div></div></div></div></div></div>"
      ],
      "text/plain": [
       "GridSearchCV(cv=5,\n",
       "             estimator=XGBRegressor(base_score=None, booster=None,\n",
       "                                    callbacks=None, colsample_bylevel=None,\n",
       "                                    colsample_bynode=None,\n",
       "                                    colsample_bytree=None, device=None,\n",
       "                                    early_stopping_rounds=None,\n",
       "                                    enable_categorical=False, eval_metric=None,\n",
       "                                    feature_types=None, gamma=None,\n",
       "                                    grow_policy=None, importance_type=None,\n",
       "                                    interaction_constraints=None,\n",
       "                                    learning_rate=None, max_bin=None,\n",
       "                                    max_cat_threshold=None,\n",
       "                                    max_cat_to_onehot=None, max_delta_step=None,\n",
       "                                    max_depth=None, max_leaves=None,\n",
       "                                    min_child_weight=None, missing=nan,\n",
       "                                    monotone_constraints=None,\n",
       "                                    multi_strategy=None, n_estimators=None,\n",
       "                                    n_jobs=None, num_parallel_tree=None,\n",
       "                                    random_state=None, ...),\n",
       "             param_grid={'alpha': [0.001], 'max_depth': [2],\n",
       "                         'min_samples_split': [2]},\n",
       "             verbose=True)"
      ]
     },
     "execution_count": 120,
     "metadata": {},
     "output_type": "execute_result"
    }
   ],
   "source": [
    "parameters={'min_samples_split':[2],\n",
    "           \"max_depth\":[2],\n",
    "           \"alpha\":[0.001]}\n",
    "\n",
    "ideal_xgb_model=GridSearchCV(XGBRegressor(),\n",
    "                     param_grid=parameters,\n",
    "                     cv=5,\n",
    "                     verbose=True)\n",
    "\n",
    "ideal_xgb_model.fit(X_train,y_train)\n",
    "\n"
   ]
  },
  {
   "cell_type": "code",
   "execution_count": 121,
   "id": "5191b2e7",
   "metadata": {},
   "outputs": [],
   "source": [
    "y_pred_train=ideal_xgb_model.predict(X_train)\n",
    "y_pred_test=ideal_xgb_model.predict(X_test)"
   ]
  },
  {
   "cell_type": "code",
   "execution_count": 122,
   "id": "dc9629a4",
   "metadata": {},
   "outputs": [
    {
     "name": "stdout",
     "output_type": "stream",
     "text": [
      "y_pred_test: [1107.9861   727.8206   679.7211  ...  211.69228 2158.76    4053.4663 ]\n",
      "y_pred_train: [ 241.22885 1637.6226  3392.0283  ... 4175.138   1833.5093  1528.4368 ]\n"
     ]
    }
   ],
   "source": [
    "print(\"y_pred_test:\",y_pred_test)\n",
    "print(\"y_pred_train:\",y_pred_train)"
   ]
  },
  {
   "cell_type": "code",
   "execution_count": 123,
   "id": "54e7cf98",
   "metadata": {},
   "outputs": [],
   "source": [
    "from sklearn.metrics import r2_score"
   ]
  },
  {
   "cell_type": "code",
   "execution_count": 124,
   "id": "a65fe724",
   "metadata": {},
   "outputs": [],
   "source": [
    "r2_score_train=r2_score(y_train,y_pred_train)\n",
    "r2_score_test=r2_score(y_test,y_pred_test)"
   ]
  },
  {
   "cell_type": "code",
   "execution_count": 125,
   "id": "e271e613",
   "metadata": {},
   "outputs": [
    {
     "name": "stdout",
     "output_type": "stream",
     "text": [
      "r2 score on train data : 0.6301505061339908\n",
      "r2 score on test data : 0.5962947549695226\n"
     ]
    }
   ],
   "source": [
    "print(\"r2 score on train data :\", r2_score_train)\n",
    "print(\"r2 score on test data :\", r2_score_test)"
   ]
  },
  {
   "cell_type": "markdown",
   "id": "a306499c",
   "metadata": {},
   "source": [
    "## Prediction on Test Data"
   ]
  },
  {
   "cell_type": "code",
   "execution_count": 126,
   "id": "2161b004",
   "metadata": {},
   "outputs": [
    {
     "data": {
      "text/html": [
       "<div>\n",
       "<style scoped>\n",
       "    .dataframe tbody tr th:only-of-type {\n",
       "        vertical-align: middle;\n",
       "    }\n",
       "\n",
       "    .dataframe tbody tr th {\n",
       "        vertical-align: top;\n",
       "    }\n",
       "\n",
       "    .dataframe thead th {\n",
       "        text-align: right;\n",
       "    }\n",
       "</style>\n",
       "<table border=\"1\" class=\"dataframe\">\n",
       "  <thead>\n",
       "    <tr style=\"text-align: right;\">\n",
       "      <th></th>\n",
       "      <th>Item_Identifier</th>\n",
       "      <th>Item_Weight</th>\n",
       "      <th>Item_Fat_Content</th>\n",
       "      <th>Item_Visibility</th>\n",
       "      <th>Item_Type</th>\n",
       "      <th>Item_MRP</th>\n",
       "      <th>Outlet_Identifier</th>\n",
       "      <th>Outlet_Establishment_Year</th>\n",
       "      <th>Outlet_Size</th>\n",
       "      <th>Outlet_Location_Type</th>\n",
       "      <th>Outlet_Type</th>\n",
       "    </tr>\n",
       "  </thead>\n",
       "  <tbody>\n",
       "    <tr>\n",
       "      <th>0</th>\n",
       "      <td>FDW58</td>\n",
       "      <td>20.750</td>\n",
       "      <td>Low Fat</td>\n",
       "      <td>0.007565</td>\n",
       "      <td>Snack Foods</td>\n",
       "      <td>107.8622</td>\n",
       "      <td>OUT049</td>\n",
       "      <td>1999</td>\n",
       "      <td>Medium</td>\n",
       "      <td>Tier 1</td>\n",
       "      <td>Supermarket Type1</td>\n",
       "    </tr>\n",
       "    <tr>\n",
       "      <th>1</th>\n",
       "      <td>FDW14</td>\n",
       "      <td>8.300</td>\n",
       "      <td>reg</td>\n",
       "      <td>0.038428</td>\n",
       "      <td>Dairy</td>\n",
       "      <td>87.3198</td>\n",
       "      <td>OUT017</td>\n",
       "      <td>2007</td>\n",
       "      <td>NaN</td>\n",
       "      <td>Tier 2</td>\n",
       "      <td>Supermarket Type1</td>\n",
       "    </tr>\n",
       "    <tr>\n",
       "      <th>2</th>\n",
       "      <td>NCN55</td>\n",
       "      <td>14.600</td>\n",
       "      <td>Low Fat</td>\n",
       "      <td>0.099575</td>\n",
       "      <td>Others</td>\n",
       "      <td>241.7538</td>\n",
       "      <td>OUT010</td>\n",
       "      <td>1998</td>\n",
       "      <td>NaN</td>\n",
       "      <td>Tier 3</td>\n",
       "      <td>Grocery Store</td>\n",
       "    </tr>\n",
       "    <tr>\n",
       "      <th>3</th>\n",
       "      <td>FDQ58</td>\n",
       "      <td>7.315</td>\n",
       "      <td>Low Fat</td>\n",
       "      <td>0.015388</td>\n",
       "      <td>Snack Foods</td>\n",
       "      <td>155.0340</td>\n",
       "      <td>OUT017</td>\n",
       "      <td>2007</td>\n",
       "      <td>NaN</td>\n",
       "      <td>Tier 2</td>\n",
       "      <td>Supermarket Type1</td>\n",
       "    </tr>\n",
       "    <tr>\n",
       "      <th>4</th>\n",
       "      <td>FDY38</td>\n",
       "      <td>NaN</td>\n",
       "      <td>Regular</td>\n",
       "      <td>0.118599</td>\n",
       "      <td>Dairy</td>\n",
       "      <td>234.2300</td>\n",
       "      <td>OUT027</td>\n",
       "      <td>1985</td>\n",
       "      <td>Medium</td>\n",
       "      <td>Tier 3</td>\n",
       "      <td>Supermarket Type3</td>\n",
       "    </tr>\n",
       "  </tbody>\n",
       "</table>\n",
       "</div>"
      ],
      "text/plain": [
       "  Item_Identifier  Item_Weight Item_Fat_Content  Item_Visibility    Item_Type  \\\n",
       "0           FDW58       20.750          Low Fat         0.007565  Snack Foods   \n",
       "1           FDW14        8.300              reg         0.038428        Dairy   \n",
       "2           NCN55       14.600          Low Fat         0.099575       Others   \n",
       "3           FDQ58        7.315          Low Fat         0.015388  Snack Foods   \n",
       "4           FDY38          NaN          Regular         0.118599        Dairy   \n",
       "\n",
       "   Item_MRP Outlet_Identifier  Outlet_Establishment_Year Outlet_Size  \\\n",
       "0  107.8622            OUT049                       1999      Medium   \n",
       "1   87.3198            OUT017                       2007         NaN   \n",
       "2  241.7538            OUT010                       1998         NaN   \n",
       "3  155.0340            OUT017                       2007         NaN   \n",
       "4  234.2300            OUT027                       1985      Medium   \n",
       "\n",
       "  Outlet_Location_Type        Outlet_Type  \n",
       "0               Tier 1  Supermarket Type1  \n",
       "1               Tier 2  Supermarket Type1  \n",
       "2               Tier 3      Grocery Store  \n",
       "3               Tier 2  Supermarket Type1  \n",
       "4               Tier 3  Supermarket Type3  "
      ]
     },
     "execution_count": 126,
     "metadata": {},
     "output_type": "execute_result"
    }
   ],
   "source": [
    "test_data=pd.read_csv(\"Test.csv\")\n",
    "test_data.head()"
   ]
  },
  {
   "cell_type": "code",
   "execution_count": 127,
   "id": "9f33d4d6",
   "metadata": {},
   "outputs": [
    {
     "data": {
      "text/plain": [
       "Item_Identifier                 0\n",
       "Item_Weight                   976\n",
       "Item_Fat_Content                0\n",
       "Item_Visibility                 0\n",
       "Item_Type                       0\n",
       "Item_MRP                        0\n",
       "Outlet_Identifier               0\n",
       "Outlet_Establishment_Year       0\n",
       "Outlet_Size                  1606\n",
       "Outlet_Location_Type            0\n",
       "Outlet_Type                     0\n",
       "dtype: int64"
      ]
     },
     "execution_count": 127,
     "metadata": {},
     "output_type": "execute_result"
    }
   ],
   "source": [
    "test_data.isna().sum()"
   ]
  },
  {
   "cell_type": "code",
   "execution_count": 128,
   "id": "a46d8809",
   "metadata": {},
   "outputs": [
    {
     "data": {
      "text/plain": [
       "Item_Identifier               object\n",
       "Item_Weight                  float64\n",
       "Item_Fat_Content              object\n",
       "Item_Visibility              float64\n",
       "Item_Type                     object\n",
       "Item_MRP                     float64\n",
       "Outlet_Identifier             object\n",
       "Outlet_Establishment_Year      int64\n",
       "Outlet_Size                   object\n",
       "Outlet_Location_Type          object\n",
       "Outlet_Type                   object\n",
       "dtype: object"
      ]
     },
     "execution_count": 128,
     "metadata": {},
     "output_type": "execute_result"
    }
   ],
   "source": [
    "test_data.dtypes"
   ]
  },
  {
   "cell_type": "code",
   "execution_count": 129,
   "id": "9e8c90a4",
   "metadata": {},
   "outputs": [
    {
     "data": {
      "text/plain": [
       "(5681, 11)"
      ]
     },
     "execution_count": 129,
     "metadata": {},
     "output_type": "execute_result"
    }
   ],
   "source": [
    "test_data.shape"
   ]
  },
  {
   "cell_type": "code",
   "execution_count": 130,
   "id": "8c2f33a7",
   "metadata": {},
   "outputs": [
    {
     "data": {
      "text/plain": [
       "12.695633368756642"
      ]
     },
     "execution_count": 130,
     "metadata": {},
     "output_type": "execute_result"
    }
   ],
   "source": [
    "test_data[\"Item_Weight\"].mean()"
   ]
  },
  {
   "cell_type": "code",
   "execution_count": 131,
   "id": "6d663e39",
   "metadata": {},
   "outputs": [],
   "source": [
    "test_data[\"Item_Weight\"]=test_data[\"Item_Weight\"].fillna(test_data[\"Item_Weight\"].mean())"
   ]
  },
  {
   "cell_type": "code",
   "execution_count": 132,
   "id": "9f8ac4cc",
   "metadata": {},
   "outputs": [
    {
     "data": {
      "text/html": [
       "<div>\n",
       "<style scoped>\n",
       "    .dataframe tbody tr th:only-of-type {\n",
       "        vertical-align: middle;\n",
       "    }\n",
       "\n",
       "    .dataframe tbody tr th {\n",
       "        vertical-align: top;\n",
       "    }\n",
       "\n",
       "    .dataframe thead th {\n",
       "        text-align: right;\n",
       "    }\n",
       "</style>\n",
       "<table border=\"1\" class=\"dataframe\">\n",
       "  <thead>\n",
       "    <tr style=\"text-align: right;\">\n",
       "      <th></th>\n",
       "      <th>Item_Identifier</th>\n",
       "      <th>Item_Weight</th>\n",
       "      <th>Item_Fat_Content</th>\n",
       "      <th>Item_Visibility</th>\n",
       "      <th>Item_Type</th>\n",
       "      <th>Item_MRP</th>\n",
       "      <th>Outlet_Identifier</th>\n",
       "      <th>Outlet_Establishment_Year</th>\n",
       "      <th>Outlet_Size</th>\n",
       "      <th>Outlet_Location_Type</th>\n",
       "      <th>Outlet_Type</th>\n",
       "    </tr>\n",
       "  </thead>\n",
       "  <tbody>\n",
       "    <tr>\n",
       "      <th>0</th>\n",
       "      <td>FDW58</td>\n",
       "      <td>20.750000</td>\n",
       "      <td>Low Fat</td>\n",
       "      <td>0.007565</td>\n",
       "      <td>Snack Foods</td>\n",
       "      <td>107.8622</td>\n",
       "      <td>OUT049</td>\n",
       "      <td>1999</td>\n",
       "      <td>Medium</td>\n",
       "      <td>Tier 1</td>\n",
       "      <td>Supermarket Type1</td>\n",
       "    </tr>\n",
       "    <tr>\n",
       "      <th>1</th>\n",
       "      <td>FDW14</td>\n",
       "      <td>8.300000</td>\n",
       "      <td>reg</td>\n",
       "      <td>0.038428</td>\n",
       "      <td>Dairy</td>\n",
       "      <td>87.3198</td>\n",
       "      <td>OUT017</td>\n",
       "      <td>2007</td>\n",
       "      <td>NaN</td>\n",
       "      <td>Tier 2</td>\n",
       "      <td>Supermarket Type1</td>\n",
       "    </tr>\n",
       "    <tr>\n",
       "      <th>2</th>\n",
       "      <td>NCN55</td>\n",
       "      <td>14.600000</td>\n",
       "      <td>Low Fat</td>\n",
       "      <td>0.099575</td>\n",
       "      <td>Others</td>\n",
       "      <td>241.7538</td>\n",
       "      <td>OUT010</td>\n",
       "      <td>1998</td>\n",
       "      <td>NaN</td>\n",
       "      <td>Tier 3</td>\n",
       "      <td>Grocery Store</td>\n",
       "    </tr>\n",
       "    <tr>\n",
       "      <th>3</th>\n",
       "      <td>FDQ58</td>\n",
       "      <td>7.315000</td>\n",
       "      <td>Low Fat</td>\n",
       "      <td>0.015388</td>\n",
       "      <td>Snack Foods</td>\n",
       "      <td>155.0340</td>\n",
       "      <td>OUT017</td>\n",
       "      <td>2007</td>\n",
       "      <td>NaN</td>\n",
       "      <td>Tier 2</td>\n",
       "      <td>Supermarket Type1</td>\n",
       "    </tr>\n",
       "    <tr>\n",
       "      <th>4</th>\n",
       "      <td>FDY38</td>\n",
       "      <td>12.695633</td>\n",
       "      <td>Regular</td>\n",
       "      <td>0.118599</td>\n",
       "      <td>Dairy</td>\n",
       "      <td>234.2300</td>\n",
       "      <td>OUT027</td>\n",
       "      <td>1985</td>\n",
       "      <td>Medium</td>\n",
       "      <td>Tier 3</td>\n",
       "      <td>Supermarket Type3</td>\n",
       "    </tr>\n",
       "  </tbody>\n",
       "</table>\n",
       "</div>"
      ],
      "text/plain": [
       "  Item_Identifier  Item_Weight Item_Fat_Content  Item_Visibility    Item_Type  \\\n",
       "0           FDW58    20.750000          Low Fat         0.007565  Snack Foods   \n",
       "1           FDW14     8.300000              reg         0.038428        Dairy   \n",
       "2           NCN55    14.600000          Low Fat         0.099575       Others   \n",
       "3           FDQ58     7.315000          Low Fat         0.015388  Snack Foods   \n",
       "4           FDY38    12.695633          Regular         0.118599        Dairy   \n",
       "\n",
       "   Item_MRP Outlet_Identifier  Outlet_Establishment_Year Outlet_Size  \\\n",
       "0  107.8622            OUT049                       1999      Medium   \n",
       "1   87.3198            OUT017                       2007         NaN   \n",
       "2  241.7538            OUT010                       1998         NaN   \n",
       "3  155.0340            OUT017                       2007         NaN   \n",
       "4  234.2300            OUT027                       1985      Medium   \n",
       "\n",
       "  Outlet_Location_Type        Outlet_Type  \n",
       "0               Tier 1  Supermarket Type1  \n",
       "1               Tier 2  Supermarket Type1  \n",
       "2               Tier 3      Grocery Store  \n",
       "3               Tier 2  Supermarket Type1  \n",
       "4               Tier 3  Supermarket Type3  "
      ]
     },
     "execution_count": 132,
     "metadata": {},
     "output_type": "execute_result"
    }
   ],
   "source": [
    "test_data.head()"
   ]
  },
  {
   "cell_type": "code",
   "execution_count": 133,
   "id": "3598f8c9",
   "metadata": {},
   "outputs": [
    {
     "data": {
      "text/plain": [
       "0       False\n",
       "1        True\n",
       "2        True\n",
       "3        True\n",
       "4       False\n",
       "        ...  \n",
       "5676    False\n",
       "5677    False\n",
       "5678     True\n",
       "5679     True\n",
       "5680     True\n",
       "Name: Outlet_Size, Length: 5681, dtype: bool"
      ]
     },
     "execution_count": 133,
     "metadata": {},
     "output_type": "execute_result"
    }
   ],
   "source": [
    "test_data[\"Outlet_Size\"].isna()"
   ]
  },
  {
   "cell_type": "code",
   "execution_count": 134,
   "id": "98605d04",
   "metadata": {},
   "outputs": [
    {
     "data": {
      "text/plain": [
       "'Medium'"
      ]
     },
     "execution_count": 134,
     "metadata": {},
     "output_type": "execute_result"
    }
   ],
   "source": [
    "test_data[\"Outlet_Size\"].mode()[0]"
   ]
  },
  {
   "cell_type": "code",
   "execution_count": 135,
   "id": "8c281431",
   "metadata": {},
   "outputs": [],
   "source": [
    "test_data[\"Outlet_Size\"]=test_data[\"Outlet_Size\"].fillna(test_data[\"Outlet_Size\"].mode()[0])"
   ]
  },
  {
   "cell_type": "code",
   "execution_count": 136,
   "id": "76b242a4",
   "metadata": {},
   "outputs": [
    {
     "data": {
      "text/plain": [
       "0       Medium\n",
       "1       Medium\n",
       "2       Medium\n",
       "3       Medium\n",
       "4       Medium\n",
       "         ...  \n",
       "5676     Small\n",
       "5677    Medium\n",
       "5678    Medium\n",
       "5679    Medium\n",
       "5680    Medium\n",
       "Name: Outlet_Size, Length: 5681, dtype: object"
      ]
     },
     "execution_count": 136,
     "metadata": {},
     "output_type": "execute_result"
    }
   ],
   "source": [
    "test_data[\"Outlet_Size\"]"
   ]
  },
  {
   "cell_type": "code",
   "execution_count": 137,
   "id": "0820bec2",
   "metadata": {},
   "outputs": [
    {
     "data": {
      "text/plain": [
       "Item_Identifier              0\n",
       "Item_Weight                  0\n",
       "Item_Fat_Content             0\n",
       "Item_Visibility              0\n",
       "Item_Type                    0\n",
       "Item_MRP                     0\n",
       "Outlet_Identifier            0\n",
       "Outlet_Establishment_Year    0\n",
       "Outlet_Size                  0\n",
       "Outlet_Location_Type         0\n",
       "Outlet_Type                  0\n",
       "dtype: int64"
      ]
     },
     "execution_count": 137,
     "metadata": {},
     "output_type": "execute_result"
    }
   ],
   "source": [
    "test_data.isna().sum()"
   ]
  },
  {
   "cell_type": "markdown",
   "id": "3828c9cb",
   "metadata": {},
   "source": [
    "### Encoding of the test data"
   ]
  },
  {
   "cell_type": "code",
   "execution_count": 138,
   "id": "f5f55e5d",
   "metadata": {},
   "outputs": [],
   "source": [
    "test_data[\"Item_Identifier\"]=encoder.fit_transform(test_data[\"Item_Identifier\"])\n",
    "test_data[\"Item_Fat_Content\"]=encoder.fit_transform(test_data[\"Item_Fat_Content\"])\n",
    "test_data[\"Item_Type\"]=encoder.fit_transform(test_data[\"Item_Type\"])\n",
    "test_data[\"Outlet_Identifier\"]=encoder.fit_transform(test_data[\"Outlet_Identifier\"])\n",
    "test_data[\"Outlet_Size\"]=encoder.fit_transform(test_data[\"Outlet_Size\"])\n",
    "test_data[\"Outlet_Location_Type\"]=encoder.fit_transform(test_data[\"Outlet_Location_Type\"])\n",
    "test_data[\"Outlet_Type\"]=encoder.fit_transform(test_data[\"Outlet_Type\"])"
   ]
  },
  {
   "cell_type": "code",
   "execution_count": 139,
   "id": "0e315a76",
   "metadata": {},
   "outputs": [
    {
     "data": {
      "text/html": [
       "<div>\n",
       "<style scoped>\n",
       "    .dataframe tbody tr th:only-of-type {\n",
       "        vertical-align: middle;\n",
       "    }\n",
       "\n",
       "    .dataframe tbody tr th {\n",
       "        vertical-align: top;\n",
       "    }\n",
       "\n",
       "    .dataframe thead th {\n",
       "        text-align: right;\n",
       "    }\n",
       "</style>\n",
       "<table border=\"1\" class=\"dataframe\">\n",
       "  <thead>\n",
       "    <tr style=\"text-align: right;\">\n",
       "      <th></th>\n",
       "      <th>Item_Identifier</th>\n",
       "      <th>Item_Weight</th>\n",
       "      <th>Item_Fat_Content</th>\n",
       "      <th>Item_Visibility</th>\n",
       "      <th>Item_Type</th>\n",
       "      <th>Item_MRP</th>\n",
       "      <th>Outlet_Identifier</th>\n",
       "      <th>Outlet_Establishment_Year</th>\n",
       "      <th>Outlet_Size</th>\n",
       "      <th>Outlet_Location_Type</th>\n",
       "      <th>Outlet_Type</th>\n",
       "    </tr>\n",
       "  </thead>\n",
       "  <tbody>\n",
       "    <tr>\n",
       "      <th>0</th>\n",
       "      <td>1103</td>\n",
       "      <td>20.750000</td>\n",
       "      <td>1</td>\n",
       "      <td>0.007565</td>\n",
       "      <td>13</td>\n",
       "      <td>107.8622</td>\n",
       "      <td>9</td>\n",
       "      <td>1999</td>\n",
       "      <td>1</td>\n",
       "      <td>0</td>\n",
       "      <td>1</td>\n",
       "    </tr>\n",
       "    <tr>\n",
       "      <th>1</th>\n",
       "      <td>1067</td>\n",
       "      <td>8.300000</td>\n",
       "      <td>4</td>\n",
       "      <td>0.038428</td>\n",
       "      <td>4</td>\n",
       "      <td>87.3198</td>\n",
       "      <td>2</td>\n",
       "      <td>2007</td>\n",
       "      <td>1</td>\n",
       "      <td>1</td>\n",
       "      <td>1</td>\n",
       "    </tr>\n",
       "    <tr>\n",
       "      <th>2</th>\n",
       "      <td>1406</td>\n",
       "      <td>14.600000</td>\n",
       "      <td>1</td>\n",
       "      <td>0.099575</td>\n",
       "      <td>11</td>\n",
       "      <td>241.7538</td>\n",
       "      <td>0</td>\n",
       "      <td>1998</td>\n",
       "      <td>1</td>\n",
       "      <td>2</td>\n",
       "      <td>0</td>\n",
       "    </tr>\n",
       "    <tr>\n",
       "      <th>3</th>\n",
       "      <td>809</td>\n",
       "      <td>7.315000</td>\n",
       "      <td>1</td>\n",
       "      <td>0.015388</td>\n",
       "      <td>13</td>\n",
       "      <td>155.0340</td>\n",
       "      <td>2</td>\n",
       "      <td>2007</td>\n",
       "      <td>1</td>\n",
       "      <td>1</td>\n",
       "      <td>1</td>\n",
       "    </tr>\n",
       "    <tr>\n",
       "      <th>4</th>\n",
       "      <td>1184</td>\n",
       "      <td>12.695633</td>\n",
       "      <td>2</td>\n",
       "      <td>0.118599</td>\n",
       "      <td>4</td>\n",
       "      <td>234.2300</td>\n",
       "      <td>5</td>\n",
       "      <td>1985</td>\n",
       "      <td>1</td>\n",
       "      <td>2</td>\n",
       "      <td>3</td>\n",
       "    </tr>\n",
       "  </tbody>\n",
       "</table>\n",
       "</div>"
      ],
      "text/plain": [
       "   Item_Identifier  Item_Weight  Item_Fat_Content  Item_Visibility  Item_Type  \\\n",
       "0             1103    20.750000                 1         0.007565         13   \n",
       "1             1067     8.300000                 4         0.038428          4   \n",
       "2             1406    14.600000                 1         0.099575         11   \n",
       "3              809     7.315000                 1         0.015388         13   \n",
       "4             1184    12.695633                 2         0.118599          4   \n",
       "\n",
       "   Item_MRP  Outlet_Identifier  Outlet_Establishment_Year  Outlet_Size  \\\n",
       "0  107.8622                  9                       1999            1   \n",
       "1   87.3198                  2                       2007            1   \n",
       "2  241.7538                  0                       1998            1   \n",
       "3  155.0340                  2                       2007            1   \n",
       "4  234.2300                  5                       1985            1   \n",
       "\n",
       "   Outlet_Location_Type  Outlet_Type  \n",
       "0                     0            1  \n",
       "1                     1            1  \n",
       "2                     2            0  \n",
       "3                     1            1  \n",
       "4                     2            3  "
      ]
     },
     "execution_count": 139,
     "metadata": {},
     "output_type": "execute_result"
    }
   ],
   "source": [
    "test_data.head()"
   ]
  },
  {
   "cell_type": "markdown",
   "id": "6778e415",
   "metadata": {},
   "source": [
    "### Scaling of the test data for the better results"
   ]
  },
  {
   "cell_type": "code",
   "execution_count": 140,
   "id": "57a339e9",
   "metadata": {},
   "outputs": [],
   "source": [
    "scale_columns=[\"Item_Identifier\",\"Item_Weight\",\"Item_Fat_Content\",\"Item_Visibility\",\"Item_Type\",\"Item_MRP\",\"Outlet_Identifier\",\"Outlet_Establishment_Year\",\"Outlet_Size\",\"Outlet_Location_Type\",\"Outlet_Type\"]\n",
    "scaler=MinMaxScaler()\n",
    "test_data[scale_columns]=scaler.fit_transform(test_data[scale_columns])"
   ]
  },
  {
   "cell_type": "code",
   "execution_count": 141,
   "id": "5dc7f54c",
   "metadata": {},
   "outputs": [
    {
     "data": {
      "text/html": [
       "<div>\n",
       "<style scoped>\n",
       "    .dataframe tbody tr th:only-of-type {\n",
       "        vertical-align: middle;\n",
       "    }\n",
       "\n",
       "    .dataframe tbody tr th {\n",
       "        vertical-align: top;\n",
       "    }\n",
       "\n",
       "    .dataframe thead th {\n",
       "        text-align: right;\n",
       "    }\n",
       "</style>\n",
       "<table border=\"1\" class=\"dataframe\">\n",
       "  <thead>\n",
       "    <tr style=\"text-align: right;\">\n",
       "      <th></th>\n",
       "      <th>Item_Identifier</th>\n",
       "      <th>Item_Weight</th>\n",
       "      <th>Item_Fat_Content</th>\n",
       "      <th>Item_Visibility</th>\n",
       "      <th>Item_Type</th>\n",
       "      <th>Item_MRP</th>\n",
       "      <th>Outlet_Identifier</th>\n",
       "      <th>Outlet_Establishment_Year</th>\n",
       "      <th>Outlet_Size</th>\n",
       "      <th>Outlet_Location_Type</th>\n",
       "      <th>Outlet_Type</th>\n",
       "    </tr>\n",
       "  </thead>\n",
       "  <tbody>\n",
       "    <tr>\n",
       "      <th>0</th>\n",
       "      <td>0.715305</td>\n",
       "      <td>0.964275</td>\n",
       "      <td>0.25</td>\n",
       "      <td>0.023374</td>\n",
       "      <td>0.866667</td>\n",
       "      <td>0.323413</td>\n",
       "      <td>1.000000</td>\n",
       "      <td>0.583333</td>\n",
       "      <td>0.5</td>\n",
       "      <td>0.0</td>\n",
       "      <td>0.333333</td>\n",
       "    </tr>\n",
       "    <tr>\n",
       "      <th>1</th>\n",
       "      <td>0.691958</td>\n",
       "      <td>0.222983</td>\n",
       "      <td>1.00</td>\n",
       "      <td>0.118737</td>\n",
       "      <td>0.266667</td>\n",
       "      <td>0.235849</td>\n",
       "      <td>0.222222</td>\n",
       "      <td>0.916667</td>\n",
       "      <td>0.5</td>\n",
       "      <td>0.5</td>\n",
       "      <td>0.333333</td>\n",
       "    </tr>\n",
       "    <tr>\n",
       "      <th>2</th>\n",
       "      <td>0.911803</td>\n",
       "      <td>0.598095</td>\n",
       "      <td>0.25</td>\n",
       "      <td>0.307674</td>\n",
       "      <td>0.733333</td>\n",
       "      <td>0.894140</td>\n",
       "      <td>0.000000</td>\n",
       "      <td>0.541667</td>\n",
       "      <td>0.5</td>\n",
       "      <td>1.0</td>\n",
       "      <td>0.000000</td>\n",
       "    </tr>\n",
       "    <tr>\n",
       "      <th>3</th>\n",
       "      <td>0.524643</td>\n",
       "      <td>0.164335</td>\n",
       "      <td>0.25</td>\n",
       "      <td>0.047548</td>\n",
       "      <td>0.866667</td>\n",
       "      <td>0.524488</td>\n",
       "      <td>0.222222</td>\n",
       "      <td>0.916667</td>\n",
       "      <td>0.5</td>\n",
       "      <td>0.5</td>\n",
       "      <td>0.333333</td>\n",
       "    </tr>\n",
       "    <tr>\n",
       "      <th>4</th>\n",
       "      <td>0.767834</td>\n",
       "      <td>0.484706</td>\n",
       "      <td>0.50</td>\n",
       "      <td>0.366458</td>\n",
       "      <td>0.266667</td>\n",
       "      <td>0.862069</td>\n",
       "      <td>0.555556</td>\n",
       "      <td>0.000000</td>\n",
       "      <td>0.5</td>\n",
       "      <td>1.0</td>\n",
       "      <td>1.000000</td>\n",
       "    </tr>\n",
       "  </tbody>\n",
       "</table>\n",
       "</div>"
      ],
      "text/plain": [
       "   Item_Identifier  Item_Weight  Item_Fat_Content  Item_Visibility  Item_Type  \\\n",
       "0         0.715305     0.964275              0.25         0.023374   0.866667   \n",
       "1         0.691958     0.222983              1.00         0.118737   0.266667   \n",
       "2         0.911803     0.598095              0.25         0.307674   0.733333   \n",
       "3         0.524643     0.164335              0.25         0.047548   0.866667   \n",
       "4         0.767834     0.484706              0.50         0.366458   0.266667   \n",
       "\n",
       "   Item_MRP  Outlet_Identifier  Outlet_Establishment_Year  Outlet_Size  \\\n",
       "0  0.323413           1.000000                   0.583333          0.5   \n",
       "1  0.235849           0.222222                   0.916667          0.5   \n",
       "2  0.894140           0.000000                   0.541667          0.5   \n",
       "3  0.524488           0.222222                   0.916667          0.5   \n",
       "4  0.862069           0.555556                   0.000000          0.5   \n",
       "\n",
       "   Outlet_Location_Type  Outlet_Type  \n",
       "0                   0.0     0.333333  \n",
       "1                   0.5     0.333333  \n",
       "2                   1.0     0.000000  \n",
       "3                   0.5     0.333333  \n",
       "4                   1.0     1.000000  "
      ]
     },
     "execution_count": 141,
     "metadata": {},
     "output_type": "execute_result"
    }
   ],
   "source": [
    "test_data.head()"
   ]
  },
  {
   "cell_type": "code",
   "execution_count": 142,
   "id": "33d12db7",
   "metadata": {},
   "outputs": [],
   "source": [
    "#dropping some features\n",
    "test_data=test_data.drop(\"Item_Identifier\", axis=1)\n",
    "test_data=test_data.drop(\"Outlet_Identifier\", axis=1)"
   ]
  },
  {
   "cell_type": "code",
   "execution_count": 143,
   "id": "e31b74f1",
   "metadata": {},
   "outputs": [
    {
     "data": {
      "text/plain": [
       "(5681, 9)"
      ]
     },
     "execution_count": 143,
     "metadata": {},
     "output_type": "execute_result"
    }
   ],
   "source": [
    "test_data.shape"
   ]
  },
  {
   "cell_type": "markdown",
   "id": "0840aa24",
   "metadata": {},
   "source": [
    "## Linear Regression Model Prediction on Test_Data"
   ]
  },
  {
   "cell_type": "code",
   "execution_count": 144,
   "id": "0502b558",
   "metadata": {},
   "outputs": [
    {
     "name": "stdout",
     "output_type": "stream",
     "text": [
      "Prediction values on training data:\n",
      " [ 203.82399229 1611.57032934 3522.3548334  ... 3664.8975901  1722.75522985\n",
      " 1498.73640752]\n",
      "Prediction values on test dataset:\n",
      " [2094.9250096  1387.87555419 2260.87490498 ... 1779.50903928 3387.44391822\n",
      " 1145.5278519 ]\n"
     ]
    }
   ],
   "source": [
    "linear_model.predict(X_train)\n",
    "print(\"Prediction values on training data:\\n\",linear_model.predict(X_train))\n",
    "\n",
    "linear_model.predict(test_data)\n",
    "print(\"Prediction values on test dataset:\\n\", linear_model.predict(test_data))"
   ]
  },
  {
   "cell_type": "markdown",
   "id": "f525ffd7",
   "metadata": {},
   "source": [
    "## Regularised Linear Regression Model Prediction on Test_Data\n",
    "\n",
    "* Ridge Regression"
   ]
  },
  {
   "cell_type": "code",
   "execution_count": 145,
   "id": "5d29a13a",
   "metadata": {},
   "outputs": [
    {
     "name": "stdout",
     "output_type": "stream",
     "text": [
      "Prediction values on training data:\n",
      " [ 216.31706076 1613.87720395 3516.96071101 ... 3658.70934875 1723.8712661\n",
      " 1501.40248944]\n",
      "Prediction values on test data:\n",
      " [2094.9250096  1387.87555419 2260.87490498 ... 1779.50903928 3387.44391822\n",
      " 1145.5278519 ]\n"
     ]
    }
   ],
   "source": [
    "ridgeModelChosen.predict(X_train)\n",
    "print(\"Prediction values on training data:\\n\",ridgeModelChosen.predict(X_train))\n",
    "\n",
    "ridgeModelChosen.predict(test_data)\n",
    "print(\"Prediction values on test data:\\n\",linear_model.predict(test_data))\n"
   ]
  },
  {
   "cell_type": "markdown",
   "id": "30c91085",
   "metadata": {},
   "source": [
    "* Lasso Regression"
   ]
  },
  {
   "cell_type": "code",
   "execution_count": 146,
   "id": "97aef3e6",
   "metadata": {},
   "outputs": [
    {
     "name": "stdout",
     "output_type": "stream",
     "text": [
      "Prediction values on training data:\n",
      " [ 232.56656766 1624.65115058 3529.43789828 ... 3653.70352604 1715.11089486\n",
      " 1508.13931876]\n",
      "Prediction values on test data:\n",
      " [2067.7770876  1369.94143595 2285.01809067 ... 1767.09366757 3372.07512193\n",
      " 1140.1209729 ]\n"
     ]
    }
   ],
   "source": [
    "lassoModelChosen.predict(X_train)\n",
    "print(\"Prediction values on training data:\\n\",lassoModelChosen.predict(X_train))\n",
    "\n",
    "lassoModelChosen.predict(test_data)\n",
    "print(\"Prediction values on test data:\\n\",lassoModelChosen.predict(test_data))"
   ]
  },
  {
   "cell_type": "markdown",
   "id": "096fa7c9",
   "metadata": {},
   "source": [
    "### XG Boost  Model Prediction on Test data"
   ]
  },
  {
   "cell_type": "code",
   "execution_count": 147,
   "id": "d256a075",
   "metadata": {},
   "outputs": [
    {
     "name": "stdout",
     "output_type": "stream",
     "text": [
      "Prediction values on training data:\n",
      " [ 241.22885 1637.6226  3392.0283  ... 4175.138   1833.5093  1528.4368 ]\n",
      "Prediction values on test data:\n",
      " [1517.6377  1533.0164   875.67834 ... 1887.2031  3441.2905  1039.9652 ]\n"
     ]
    }
   ],
   "source": [
    "ideal_xgb_model.predict(X_train)\n",
    "print(\"Prediction values on training data:\\n\",ideal_xgb_model.predict(X_train))\n",
    "\n",
    "ideal_xgb_model.predict(test_data)\n",
    "print(\"Prediction values on test data:\\n\",ideal_xgb_model.predict(test_data))"
   ]
  },
  {
   "cell_type": "markdown",
   "id": "c7371525",
   "metadata": {},
   "source": [
    "### Random Forest Model Prediction on Test data"
   ]
  },
  {
   "cell_type": "code",
   "execution_count": 148,
   "id": "a8fe493f",
   "metadata": {},
   "outputs": [
    {
     "name": "stdout",
     "output_type": "stream",
     "text": [
      "Fitting 5 folds for each of 30 candidates, totalling 150 fits\n"
     ]
    },
    {
     "data": {
      "text/html": [
       "<style>#sk-container-id-7 {color: black;}#sk-container-id-7 pre{padding: 0;}#sk-container-id-7 div.sk-toggleable {background-color: white;}#sk-container-id-7 label.sk-toggleable__label {cursor: pointer;display: block;width: 100%;margin-bottom: 0;padding: 0.3em;box-sizing: border-box;text-align: center;}#sk-container-id-7 label.sk-toggleable__label-arrow:before {content: \"▸\";float: left;margin-right: 0.25em;color: #696969;}#sk-container-id-7 label.sk-toggleable__label-arrow:hover:before {color: black;}#sk-container-id-7 div.sk-estimator:hover label.sk-toggleable__label-arrow:before {color: black;}#sk-container-id-7 div.sk-toggleable__content {max-height: 0;max-width: 0;overflow: hidden;text-align: left;background-color: #f0f8ff;}#sk-container-id-7 div.sk-toggleable__content pre {margin: 0.2em;color: black;border-radius: 0.25em;background-color: #f0f8ff;}#sk-container-id-7 input.sk-toggleable__control:checked~div.sk-toggleable__content {max-height: 200px;max-width: 100%;overflow: auto;}#sk-container-id-7 input.sk-toggleable__control:checked~label.sk-toggleable__label-arrow:before {content: \"▾\";}#sk-container-id-7 div.sk-estimator input.sk-toggleable__control:checked~label.sk-toggleable__label {background-color: #d4ebff;}#sk-container-id-7 div.sk-label input.sk-toggleable__control:checked~label.sk-toggleable__label {background-color: #d4ebff;}#sk-container-id-7 input.sk-hidden--visually {border: 0;clip: rect(1px 1px 1px 1px);clip: rect(1px, 1px, 1px, 1px);height: 1px;margin: -1px;overflow: hidden;padding: 0;position: absolute;width: 1px;}#sk-container-id-7 div.sk-estimator {font-family: monospace;background-color: #f0f8ff;border: 1px dotted black;border-radius: 0.25em;box-sizing: border-box;margin-bottom: 0.5em;}#sk-container-id-7 div.sk-estimator:hover {background-color: #d4ebff;}#sk-container-id-7 div.sk-parallel-item::after {content: \"\";width: 100%;border-bottom: 1px solid gray;flex-grow: 1;}#sk-container-id-7 div.sk-label:hover label.sk-toggleable__label {background-color: #d4ebff;}#sk-container-id-7 div.sk-serial::before {content: \"\";position: absolute;border-left: 1px solid gray;box-sizing: border-box;top: 0;bottom: 0;left: 50%;z-index: 0;}#sk-container-id-7 div.sk-serial {display: flex;flex-direction: column;align-items: center;background-color: white;padding-right: 0.2em;padding-left: 0.2em;position: relative;}#sk-container-id-7 div.sk-item {position: relative;z-index: 1;}#sk-container-id-7 div.sk-parallel {display: flex;align-items: stretch;justify-content: center;background-color: white;position: relative;}#sk-container-id-7 div.sk-item::before, #sk-container-id-7 div.sk-parallel-item::before {content: \"\";position: absolute;border-left: 1px solid gray;box-sizing: border-box;top: 0;bottom: 0;left: 50%;z-index: -1;}#sk-container-id-7 div.sk-parallel-item {display: flex;flex-direction: column;z-index: 1;position: relative;background-color: white;}#sk-container-id-7 div.sk-parallel-item:first-child::after {align-self: flex-end;width: 50%;}#sk-container-id-7 div.sk-parallel-item:last-child::after {align-self: flex-start;width: 50%;}#sk-container-id-7 div.sk-parallel-item:only-child::after {width: 0;}#sk-container-id-7 div.sk-dashed-wrapped {border: 1px dashed gray;margin: 0 0.4em 0.5em 0.4em;box-sizing: border-box;padding-bottom: 0.4em;background-color: white;}#sk-container-id-7 div.sk-label label {font-family: monospace;font-weight: bold;display: inline-block;line-height: 1.2em;}#sk-container-id-7 div.sk-label-container {text-align: center;}#sk-container-id-7 div.sk-container {/* jupyter's `normalize.less` sets `[hidden] { display: none; }` but bootstrap.min.css set `[hidden] { display: none !important; }` so we also need the `!important` here to be able to override the default hidden behavior on the sphinx rendered scikit-learn.org. See: https://github.com/scikit-learn/scikit-learn/issues/21755 */display: inline-block !important;position: relative;}#sk-container-id-7 div.sk-text-repr-fallback {display: none;}</style><div id=\"sk-container-id-7\" class=\"sk-top-container\"><div class=\"sk-text-repr-fallback\"><pre>RandomizedSearchCV(cv=5, estimator=RandomForestRegressor(), n_iter=30,\n",
       "                   param_distributions={&#x27;max_depth&#x27;: [None, 3, 5, 10],\n",
       "                                        &#x27;max_features&#x27;: [0.5, 1.0, &#x27;sqrt&#x27;],\n",
       "                                        &#x27;max_samples&#x27;: [1500],\n",
       "                                        &#x27;min_samples_leaf&#x27;: array([ 1,  3,  5,  7,  9, 11, 13, 15, 17, 19]),\n",
       "                                        &#x27;min_samples_split&#x27;: array([ 2,  4,  6,  8, 10, 12, 14, 16, 18]),\n",
       "                                        &#x27;n_estimators&#x27;: array([10, 20, 30, 40, 50, 60, 70, 80, 90])},\n",
       "                   verbose=True)</pre><b>In a Jupyter environment, please rerun this cell to show the HTML representation or trust the notebook. <br />On GitHub, the HTML representation is unable to render, please try loading this page with nbviewer.org.</b></div><div class=\"sk-container\" hidden><div class=\"sk-item sk-dashed-wrapped\"><div class=\"sk-label-container\"><div class=\"sk-label sk-toggleable\"><input class=\"sk-toggleable__control sk-hidden--visually\" id=\"sk-estimator-id-15\" type=\"checkbox\" ><label for=\"sk-estimator-id-15\" class=\"sk-toggleable__label sk-toggleable__label-arrow\">RandomizedSearchCV</label><div class=\"sk-toggleable__content\"><pre>RandomizedSearchCV(cv=5, estimator=RandomForestRegressor(), n_iter=30,\n",
       "                   param_distributions={&#x27;max_depth&#x27;: [None, 3, 5, 10],\n",
       "                                        &#x27;max_features&#x27;: [0.5, 1.0, &#x27;sqrt&#x27;],\n",
       "                                        &#x27;max_samples&#x27;: [1500],\n",
       "                                        &#x27;min_samples_leaf&#x27;: array([ 1,  3,  5,  7,  9, 11, 13, 15, 17, 19]),\n",
       "                                        &#x27;min_samples_split&#x27;: array([ 2,  4,  6,  8, 10, 12, 14, 16, 18]),\n",
       "                                        &#x27;n_estimators&#x27;: array([10, 20, 30, 40, 50, 60, 70, 80, 90])},\n",
       "                   verbose=True)</pre></div></div></div><div class=\"sk-parallel\"><div class=\"sk-parallel-item\"><div class=\"sk-item\"><div class=\"sk-label-container\"><div class=\"sk-label sk-toggleable\"><input class=\"sk-toggleable__control sk-hidden--visually\" id=\"sk-estimator-id-16\" type=\"checkbox\" ><label for=\"sk-estimator-id-16\" class=\"sk-toggleable__label sk-toggleable__label-arrow\">estimator: RandomForestRegressor</label><div class=\"sk-toggleable__content\"><pre>RandomForestRegressor()</pre></div></div></div><div class=\"sk-serial\"><div class=\"sk-item\"><div class=\"sk-estimator sk-toggleable\"><input class=\"sk-toggleable__control sk-hidden--visually\" id=\"sk-estimator-id-17\" type=\"checkbox\" ><label for=\"sk-estimator-id-17\" class=\"sk-toggleable__label sk-toggleable__label-arrow\">RandomForestRegressor</label><div class=\"sk-toggleable__content\"><pre>RandomForestRegressor()</pre></div></div></div></div></div></div></div></div></div></div>"
      ],
      "text/plain": [
       "RandomizedSearchCV(cv=5, estimator=RandomForestRegressor(), n_iter=30,\n",
       "                   param_distributions={'max_depth': [None, 3, 5, 10],\n",
       "                                        'max_features': [0.5, 1.0, 'sqrt'],\n",
       "                                        'max_samples': [1500],\n",
       "                                        'min_samples_leaf': array([ 1,  3,  5,  7,  9, 11, 13, 15, 17, 19]),\n",
       "                                        'min_samples_split': array([ 2,  4,  6,  8, 10, 12, 14, 16, 18]),\n",
       "                                        'n_estimators': array([10, 20, 30, 40, 50, 60, 70, 80, 90])},\n",
       "                   verbose=True)"
      ]
     },
     "execution_count": 148,
     "metadata": {},
     "output_type": "execute_result"
    }
   ],
   "source": [
    "grid={'n_estimators': 30,\n",
    " 'min_samples_split': 4,\n",
    " 'min_samples_leaf': 11,\n",
    " 'max_samples': 1500,\n",
    " 'max_features': 1.0,\n",
    " 'max_depth': 5}\n",
    "\n",
    "ideal_model = RandomizedSearchCV(RandomForestRegressor(),\n",
    "                              param_distributions=rf_grid,\n",
    "                              n_iter=30,\n",
    "                              cv=5,\n",
    "                              verbose=True)\n",
    "\n",
    "ideal_model.fit(X_train,y_train)"
   ]
  },
  {
   "cell_type": "code",
   "execution_count": 149,
   "id": "049da7fc",
   "metadata": {},
   "outputs": [
    {
     "name": "stdout",
     "output_type": "stream",
     "text": [
      "Prediction values on the training data [ 252.98291174 1584.71231914 3245.42139353 ... 3980.69292407 1920.05993102\n",
      " 1509.80004271]\n",
      "Presiction values on the test data [1625.78347323 1411.75057943  562.05083517 ... 1944.43808735 3558.86852982\n",
      " 1281.09517299]\n"
     ]
    }
   ],
   "source": [
    "ideal_model.predict(X_train)\n",
    "print(\"Prediction values on the training data\",ideal_model.predict(X_train))\n",
    "\n",
    "ideal_model.predict(test_data)\n",
    "print(\"Presiction values on the test data\",ideal_model.predict(test_data))"
   ]
  },
  {
   "cell_type": "markdown",
   "id": "b4bb9786",
   "metadata": {},
   "source": [
    "## Saving the model using pickle library"
   ]
  },
  {
   "cell_type": "code",
   "execution_count": 150,
   "id": "0a0d3d27",
   "metadata": {},
   "outputs": [],
   "source": [
    "import pickle\n",
    "# save the model to disk\n",
    "filename = 'bigmartsales_model.sav'\n",
    "# in the following code, I am saving random forest model in a file named \"finalized_model.sav\"\n",
    "pickle.dump(ideal_model, open(filename, 'wb'))"
   ]
  },
  {
   "cell_type": "markdown",
   "id": "5cbeea91",
   "metadata": {},
   "source": [
    "## Summary of the whole notebook"
   ]
  },
  {
   "cell_type": "markdown",
   "id": "628f5949",
   "metadata": {},
   "source": [
    "So from this project we conclude that a smart sales forecasting program is required to manage vast volumes of knowledge for business organizations. \n",
    "The Algorithms which are presented in this report , LR, RF regression,and XGBoost regression provide an effective method for data sharing as well as decision-makingand also provide new approaches that are used for better identifying consumer needs and formulate marketing plans that are going to be implemented. \n",
    "The outcomes of ML algorithms which are done in this project will help us to pick the foremost suitable demand prediction algorithm and with the aid of which BigMart will prepareits marketing campaigns."
   ]
  },
  {
   "cell_type": "code",
   "execution_count": null,
   "id": "eb4ee8ef",
   "metadata": {},
   "outputs": [],
   "source": []
  }
 ],
 "metadata": {
  "kernelspec": {
   "display_name": "Python 3 (ipykernel)",
   "language": "python",
   "name": "python3"
  },
  "language_info": {
   "codemirror_mode": {
    "name": "ipython",
    "version": 3
   },
   "file_extension": ".py",
   "mimetype": "text/x-python",
   "name": "python",
   "nbconvert_exporter": "python",
   "pygments_lexer": "ipython3",
   "version": "3.10.12"
  }
 },
 "nbformat": 4,
 "nbformat_minor": 5
}
